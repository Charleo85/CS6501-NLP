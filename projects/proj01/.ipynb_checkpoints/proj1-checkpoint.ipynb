{
 "cells": [
  {
   "cell_type": "code",
   "execution_count": 1,
   "metadata": {},
   "outputs": [],
   "source": [
    "from nltk.tokenize import word_tokenize\n",
    "import numpy as np\n",
    "from random import shuffle\n",
    "import matplotlib.pyplot as plt"
   ]
  },
  {
   "cell_type": "code",
   "execution_count": 2,
   "metadata": {},
   "outputs": [],
   "source": [
    "from tqdm import tqdm_notebook as tqdm"
   ]
  },
  {
   "cell_type": "code",
   "execution_count": 3,
   "metadata": {},
   "outputs": [],
   "source": [
    "def save_pickle(data, filename='sample.pickle'):\n",
    "    with open(filename, mode='wb') as f:\n",
    "        pickle.dump(data, f)"
   ]
  },
  {
   "cell_type": "code",
   "execution_count": 4,
   "metadata": {},
   "outputs": [],
   "source": [
    "def normalize(word):\n",
    "    w = word.lower()\n",
    "    if w.isdigit(): return \"NUM\"\n",
    "    else: return w"
   ]
  },
  {
   "cell_type": "code",
   "execution_count": 5,
   "metadata": {},
   "outputs": [],
   "source": [
    "tf = {}"
   ]
  },
  {
   "cell_type": "code",
   "execution_count": 6,
   "metadata": {},
   "outputs": [],
   "source": [
    "def loadData(fname):\n",
    "    f = open(fname, 'r')\n",
    "    sentences = f.readlines()\n",
    "    f.close()\n",
    "    features = []\n",
    "    for stn in sentences:\n",
    "        feature = []\n",
    "        words = word_tokenize(stn)\n",
    "        for w in words:\n",
    "            v = normalize(w)\n",
    "            if v in tf: \n",
    "                tf[v] += 1\n",
    "            else:\n",
    "                tf[v] = 1\n",
    "            feature.append(v)\n",
    "\n",
    "        features.append(feature)\n",
    "    return features"
   ]
  },
  {
   "cell_type": "code",
   "execution_count": 7,
   "metadata": {},
   "outputs": [],
   "source": [
    "train_features = loadData('trn.data')"
   ]
  },
  {
   "cell_type": "code",
<<<<<<< HEAD
<<<<<<< HEAD
=======
>>>>>>> 6c349b8... proj1 update
   "execution_count": 74,
   "metadata": {},
   "outputs": [],
   "source": [
    "train_labels = open(\"trn.label\").read().strip().split(\"\\n\")\n",
    "dev_labels = open(\"dev.label\").read().strip().split(\"\\n\")"
   ]
  },
  {
   "cell_type": "code",
   "execution_count": 9,
<<<<<<< HEAD
=======
   "execution_count": 8,
>>>>>>> 6407107... proj1
=======
>>>>>>> 6c349b8... proj1 update
   "metadata": {},
   "outputs": [
    {
     "name": "stdout",
     "output_type": "stream",
     "text": [
      "56903\n"
     ]
    }
   ],
   "source": [
    "print(len(tf))"
   ]
  },
  {
   "cell_type": "code",
<<<<<<< HEAD
<<<<<<< HEAD
   "execution_count": 10,
=======
   "execution_count": 9,
>>>>>>> 6407107... proj1
=======
   "execution_count": 10,
>>>>>>> 6c349b8... proj1 update
   "metadata": {},
   "outputs": [],
   "source": [
    "word2index = {}\n",
    "index2word = {}\n",
    "index = 1\n",
    "index2word[0] = 'UNK'\n",
    "for w, freq in tf.items():\n",
    "    if w not in word2index:\n",
    "        if freq < 3:\n",
    "            word2index[w] = 0\n",
    "        else:\n",
    "            word2index[w] = index\n",
    "            index2word[index] = w\n",
    "        index += 1"
   ]
  },
  {
   "cell_type": "code",
<<<<<<< HEAD
<<<<<<< HEAD
   "execution_count": 11,
=======
   "execution_count": 10,
>>>>>>> 6407107... proj1
=======
   "execution_count": 11,
>>>>>>> 6c349b8... proj1 update
   "metadata": {},
   "outputs": [],
   "source": [
    "V = index"
   ]
  },
  {
   "cell_type": "code",
<<<<<<< HEAD
<<<<<<< HEAD
   "execution_count": 100,
=======
   "execution_count": 11,
>>>>>>> 6407107... proj1
=======
   "execution_count": 100,
>>>>>>> 6c349b8... proj1 update
   "metadata": {},
   "outputs": [],
   "source": [
    "def loadfxy(labels, features):\n",
    "    print(len(labels), len(features))\n",
<<<<<<< HEAD
<<<<<<< HEAD
    "    bow = []\n",
    "    for i in range(len(features)):\n",
    "        feature = np.zeros((V+1, 1), dtype=np.float32 )\n",
    "        l = int(labels[i])\n",
    "#         print(labels[i], l)\n",
=======
    "    bow = [None]*len(features)\n",
=======
    "    bow = []\n",
>>>>>>> 6c349b8... proj1 update
    "    for i in range(len(features)):\n",
    "        feature = np.zeros((V+1, 1), dtype=np.float32 )\n",
    "        l = int(labels[i])\n",
<<<<<<< HEAD
>>>>>>> 6407107... proj1
=======
    "#         print(labels[i], l)\n",
>>>>>>> 6c349b8... proj1 update
    "        for v in train_features[i]:\n",
    "            key = 0 #map unknown token to UNK\n",
    "            if v in word2index:\n",
    "                key = word2index[v]\n",
    "            feature[key] += 1\n",
    "        feature[-1] = 1 #constant\n",
<<<<<<< HEAD
<<<<<<< HEAD
    "        bow.append((feature, l))\n",
=======
    "        bow[i] = (feature, l)\n",
>>>>>>> 6407107... proj1
=======
    "        bow.append((feature, l))\n",
>>>>>>> 6c349b8... proj1 update
    "    return bow"
   ]
  },
  {
   "cell_type": "code",
<<<<<<< HEAD
<<<<<<< HEAD
   "execution_count": 101,
=======
   "execution_count": 12,
   "metadata": {},
   "outputs": [],
   "source": [
    "f = open('trn.label', 'r')\n",
    "train_labels = f.readlines()\n",
    "f.close()"
   ]
  },
  {
   "cell_type": "code",
   "execution_count": 13,
>>>>>>> 6407107... proj1
=======
   "execution_count": 101,
>>>>>>> 6c349b8... proj1 update
   "metadata": {},
   "outputs": [
    {
     "name": "stdout",
     "output_type": "stream",
     "text": [
      "30000 30000\n"
     ]
    }
   ],
   "source": [
    "train_X_Y = loadfxy(train_labels, train_features)"
   ]
  },
  {
   "cell_type": "code",
<<<<<<< HEAD
<<<<<<< HEAD
   "execution_count": 102,
   "metadata": {},
   "outputs": [],
   "source": [
    "dev_features = loadData('dev.data')"
=======
   "execution_count": 14,
   "metadata": {},
   "outputs": [],
   "source": [
    "dev_features = loadData('dev.data')\n",
    "f = open('dev.label', 'r')\n",
    "dev_labels = f.readlines()\n",
    "f.close()"
>>>>>>> 6407107... proj1
=======
   "execution_count": 102,
   "metadata": {},
   "outputs": [],
   "source": [
    "dev_features = loadData('dev.data')"
>>>>>>> 6c349b8... proj1 update
   ]
  },
  {
   "cell_type": "code",
<<<<<<< HEAD
<<<<<<< HEAD
   "execution_count": 103,
=======
   "execution_count": 15,
>>>>>>> 6407107... proj1
=======
   "execution_count": 103,
>>>>>>> 6c349b8... proj1 update
   "metadata": {},
   "outputs": [
    {
     "name": "stdout",
     "output_type": "stream",
     "text": [
      "10000 10000\n"
     ]
    }
   ],
   "source": [
    "dev_X_Y = loadfxy(dev_labels, dev_features)"
   ]
  },
  {
   "cell_type": "markdown",
   "metadata": {},
   "source": [
    "## Implement the feature function $f (x, y)$ with the bag-of-words representations \n",
    "- tokenize sentences by nltk\n",
    "- term frequency count\n",
<<<<<<< HEAD
<<<<<<< HEAD
    "- map tokens to lower case\n",
=======
>>>>>>> 6407107... proj1
=======
    "- map tokens to lower case\n",
>>>>>>> 6c349b8... proj1 update
    "- map tokens that are digits to 'NUM'\n",
    "- map tokens with term frequency <5 to 'UNK'\n",
    "- add bias term in feature to accomadate offset in linear correlation\n",
    "- use binary bag of word representation with feature size of 56905*2\n",
    " "
   ]
  },
  {
   "cell_type": "code",
   "execution_count": 16,
   "metadata": {},
   "outputs": [],
   "source": [
    "def plot_acc(train_acc, dev_acc):\n",
    "    fig = plt.figure() \n",
    "    plt.plot(train_acc, label='train')\n",
    "    plt.plot(dev_acc, label='dev')\n",
    "    plt.legend()\n",
    "    plt.title(\"Training Results\")\n",
    "    plt.xlabel('#epoch')\n",
    "    plt.ylabel('accuracy')"
   ]
  },
  {
   "cell_type": "code",
<<<<<<< HEAD
<<<<<<< HEAD
   "execution_count": 104,
=======
   "execution_count": 17,
>>>>>>> 6407107... proj1
=======
   "execution_count": 104,
>>>>>>> 6c349b8... proj1 update
   "metadata": {},
   "outputs": [],
   "source": [
    "def perceptron(train_set, dev_set):\n",
<<<<<<< HEAD
<<<<<<< HEAD
    "    dim, _ = train_set[0][0].shape\n",
    "    theta_0 = np.zeros((dim, 1), dtype=np.float64)\n",
    "    theta_1 = np.zeros((dim, 1), dtype=np.float64)\n",
=======
    "    theta_0 = np.zeros((V+1, 1), dtype=np.float64)\n",
    "    theta_1 = np.zeros((V+1, 1), dtype=np.float64)\n",
>>>>>>> 6407107... proj1
=======
    "    dim, _ = train_set[0][0].shape\n",
    "    theta_0 = np.zeros((dim, 1), dtype=np.float64)\n",
    "    theta_1 = np.zeros((dim, 1), dtype=np.float64)\n",
>>>>>>> 6c349b8... proj1 update
    "    eta = 1\n",
    "    train_acc = []\n",
    "    dev_acc = []\n",
    "    for epoch in tqdm(range(5)):\n",
    "        print(\"-------------\")\n",
    "        print(\"epoch %d\"%(epoch))\n",
    "        # train\n",
    "        acc = 0\n",
    "        total = 0\n",
    "        eta /= 2\n",
    "\n",
    "        shuffle(train_set)\n",
    "        for x, y in tqdm(train_set, leave=False):\n",
    "            y_1 = np.dot(theta_0.T, x)\n",
    "            y_2 = np.dot(theta_1.T, x)\n",
    "            y_hat = 0 if y_1 > y_2 else 1\n",
    "            sign = y_hat-y\n",
    "            if sign == 0: acc += 1\n",
    "            else:\n",
    "                theta_0 = theta_0 + eta*sign*x\n",
    "                theta_1 = theta_1 - eta*sign*x\n",
    "            total += 1\n",
    "        percentage = acc/total*100\n",
    "        print('training accuracy %f %%'%(percentage))\n",
    "        train_acc.append(percentage)\n",
    "        \n",
    "        # validation\n",
    "        acc = 0\n",
    "        total = 0\n",
    "        for x, y in tqdm(dev_set, leave=False):\n",
    "            y_1 = np.dot(theta_0.T, x)\n",
    "            y_2 = np.dot(theta_1.T, x)\n",
    "            y_hat = 0 if y_1 > y_2 else 1\n",
    "            sign = y_hat-y\n",
    "            if sign == 0: acc += 1\n",
    "            total += 1\n",
    "        percentage = acc/total*100\n",
    "        print('validation accuracy %f %%'%(percentage))\n",
    "        dev_acc.append(percentage)\n",
    "            \n",
    "    plot_acc(train_acc, dev_acc)"
   ]
  },
  {
   "cell_type": "code",
<<<<<<< HEAD
<<<<<<< HEAD
   "execution_count": 105,
=======
   "execution_count": 18,
>>>>>>> 6407107... proj1
=======
   "execution_count": 105,
>>>>>>> 6c349b8... proj1 update
   "metadata": {},
   "outputs": [
    {
     "data": {
      "application/vnd.jupyter.widget-view+json": {
<<<<<<< HEAD
<<<<<<< HEAD
       "model_id": "310771e51e244925b7826050c19f95cb",
       "version_major": 2,
       "version_minor": 0
      },
=======
       "model_id": "cda26fccb7e44a83bfc87364a28f29eb",
       "version_major": 2,
       "version_minor": 0
      },
      "text/html": [
       "<p>Failed to display Jupyter Widget of type <code>HBox</code>.</p>\n",
       "<p>\n",
       "  If you're reading this message in the Jupyter Notebook or JupyterLab Notebook, it may mean\n",
       "  that the widgets JavaScript is still loading. If this message persists, it\n",
       "  likely means that the widgets JavaScript library is either not installed or\n",
       "  not enabled. See the <a href=\"https://ipywidgets.readthedocs.io/en/stable/user_install.html\">Jupyter\n",
       "  Widgets Documentation</a> for setup instructions.\n",
       "</p>\n",
       "<p>\n",
       "  If you're reading this message in another frontend (for example, a static\n",
       "  rendering on GitHub or <a href=\"https://nbviewer.jupyter.org/\">NBViewer</a>),\n",
       "  it may mean that your frontend doesn't currently support widgets.\n",
       "</p>\n"
      ],
>>>>>>> 6407107... proj1
=======
       "model_id": "310771e51e244925b7826050c19f95cb",
       "version_major": 2,
       "version_minor": 0
      },
>>>>>>> 6c349b8... proj1 update
      "text/plain": [
       "HBox(children=(IntProgress(value=0, max=5), HTML(value='')))"
      ]
     },
     "metadata": {},
     "output_type": "display_data"
    },
    {
     "name": "stdout",
     "output_type": "stream",
     "text": [
      "-------------\n",
      "epoch 0\n"
     ]
    },
    {
     "data": {
      "application/vnd.jupyter.widget-view+json": {
       "model_id": "",
       "version_major": 2,
       "version_minor": 0
      },
<<<<<<< HEAD
<<<<<<< HEAD
=======
      "text/html": [
       "<p>Failed to display Jupyter Widget of type <code>HBox</code>.</p>\n",
       "<p>\n",
       "  If you're reading this message in the Jupyter Notebook or JupyterLab Notebook, it may mean\n",
       "  that the widgets JavaScript is still loading. If this message persists, it\n",
       "  likely means that the widgets JavaScript library is either not installed or\n",
       "  not enabled. See the <a href=\"https://ipywidgets.readthedocs.io/en/stable/user_install.html\">Jupyter\n",
       "  Widgets Documentation</a> for setup instructions.\n",
       "</p>\n",
       "<p>\n",
       "  If you're reading this message in another frontend (for example, a static\n",
       "  rendering on GitHub or <a href=\"https://nbviewer.jupyter.org/\">NBViewer</a>),\n",
       "  it may mean that your frontend doesn't currently support widgets.\n",
       "</p>\n"
      ],
>>>>>>> 6407107... proj1
=======
>>>>>>> 6c349b8... proj1 update
      "text/plain": [
       "HBox(children=(IntProgress(value=0, max=30000), HTML(value='')))"
      ]
     },
     "metadata": {},
     "output_type": "display_data"
    },
    {
     "name": "stdout",
     "output_type": "stream",
     "text": [
<<<<<<< HEAD
<<<<<<< HEAD
      "training accuracy 77.500000 %\n"
=======
      "training accuracy 77.193333 %\n"
>>>>>>> 6407107... proj1
=======
      "training accuracy 77.500000 %\n"
>>>>>>> 6c349b8... proj1 update
     ]
    },
    {
     "data": {
      "application/vnd.jupyter.widget-view+json": {
       "model_id": "",
       "version_major": 2,
       "version_minor": 0
      },
<<<<<<< HEAD
<<<<<<< HEAD
=======
      "text/html": [
       "<p>Failed to display Jupyter Widget of type <code>HBox</code>.</p>\n",
       "<p>\n",
       "  If you're reading this message in the Jupyter Notebook or JupyterLab Notebook, it may mean\n",
       "  that the widgets JavaScript is still loading. If this message persists, it\n",
       "  likely means that the widgets JavaScript library is either not installed or\n",
       "  not enabled. See the <a href=\"https://ipywidgets.readthedocs.io/en/stable/user_install.html\">Jupyter\n",
       "  Widgets Documentation</a> for setup instructions.\n",
       "</p>\n",
       "<p>\n",
       "  If you're reading this message in another frontend (for example, a static\n",
       "  rendering on GitHub or <a href=\"https://nbviewer.jupyter.org/\">NBViewer</a>),\n",
       "  it may mean that your frontend doesn't currently support widgets.\n",
       "</p>\n"
      ],
>>>>>>> 6407107... proj1
=======
>>>>>>> 6c349b8... proj1 update
      "text/plain": [
       "HBox(children=(IntProgress(value=0, max=10000), HTML(value='')))"
      ]
     },
     "metadata": {},
     "output_type": "display_data"
    },
    {
     "name": "stdout",
     "output_type": "stream",
     "text": [
<<<<<<< HEAD
<<<<<<< HEAD
      "validation accuracy 49.650000 %\n",
=======
      "validation accuracy 49.880000 %\n",
>>>>>>> 6407107... proj1
=======
      "validation accuracy 49.650000 %\n",
>>>>>>> 6c349b8... proj1 update
      "-------------\n",
      "epoch 1\n"
     ]
    },
    {
     "data": {
      "application/vnd.jupyter.widget-view+json": {
       "model_id": "",
       "version_major": 2,
       "version_minor": 0
      },
<<<<<<< HEAD
<<<<<<< HEAD
=======
      "text/html": [
       "<p>Failed to display Jupyter Widget of type <code>HBox</code>.</p>\n",
       "<p>\n",
       "  If you're reading this message in the Jupyter Notebook or JupyterLab Notebook, it may mean\n",
       "  that the widgets JavaScript is still loading. If this message persists, it\n",
       "  likely means that the widgets JavaScript library is either not installed or\n",
       "  not enabled. See the <a href=\"https://ipywidgets.readthedocs.io/en/stable/user_install.html\">Jupyter\n",
       "  Widgets Documentation</a> for setup instructions.\n",
       "</p>\n",
       "<p>\n",
       "  If you're reading this message in another frontend (for example, a static\n",
       "  rendering on GitHub or <a href=\"https://nbviewer.jupyter.org/\">NBViewer</a>),\n",
       "  it may mean that your frontend doesn't currently support widgets.\n",
       "</p>\n"
      ],
>>>>>>> 6407107... proj1
=======
>>>>>>> 6c349b8... proj1 update
      "text/plain": [
       "HBox(children=(IntProgress(value=0, max=30000), HTML(value='')))"
      ]
     },
     "metadata": {},
     "output_type": "display_data"
    },
    {
     "name": "stdout",
     "output_type": "stream",
     "text": [
<<<<<<< HEAD
<<<<<<< HEAD
      "training accuracy 85.170000 %\n"
=======
      "training accuracy 85.150000 %\n"
>>>>>>> 6407107... proj1
=======
      "training accuracy 85.170000 %\n"
>>>>>>> 6c349b8... proj1 update
     ]
    },
    {
     "data": {
      "application/vnd.jupyter.widget-view+json": {
       "model_id": "",
       "version_major": 2,
       "version_minor": 0
      },
<<<<<<< HEAD
<<<<<<< HEAD
=======
      "text/html": [
       "<p>Failed to display Jupyter Widget of type <code>HBox</code>.</p>\n",
       "<p>\n",
       "  If you're reading this message in the Jupyter Notebook or JupyterLab Notebook, it may mean\n",
       "  that the widgets JavaScript is still loading. If this message persists, it\n",
       "  likely means that the widgets JavaScript library is either not installed or\n",
       "  not enabled. See the <a href=\"https://ipywidgets.readthedocs.io/en/stable/user_install.html\">Jupyter\n",
       "  Widgets Documentation</a> for setup instructions.\n",
       "</p>\n",
       "<p>\n",
       "  If you're reading this message in another frontend (for example, a static\n",
       "  rendering on GitHub or <a href=\"https://nbviewer.jupyter.org/\">NBViewer</a>),\n",
       "  it may mean that your frontend doesn't currently support widgets.\n",
       "</p>\n"
      ],
>>>>>>> 6407107... proj1
=======
>>>>>>> 6c349b8... proj1 update
      "text/plain": [
       "HBox(children=(IntProgress(value=0, max=10000), HTML(value='')))"
      ]
     },
     "metadata": {},
     "output_type": "display_data"
    },
    {
     "name": "stdout",
     "output_type": "stream",
     "text": [
<<<<<<< HEAD
<<<<<<< HEAD
      "validation accuracy 50.100000 %\n",
=======
      "validation accuracy 49.430000 %\n",
>>>>>>> 6407107... proj1
=======
      "validation accuracy 50.100000 %\n",
>>>>>>> 6c349b8... proj1 update
      "-------------\n",
      "epoch 2\n"
     ]
    },
    {
     "data": {
      "application/vnd.jupyter.widget-view+json": {
       "model_id": "",
       "version_major": 2,
       "version_minor": 0
      },
<<<<<<< HEAD
<<<<<<< HEAD
=======
      "text/html": [
       "<p>Failed to display Jupyter Widget of type <code>HBox</code>.</p>\n",
       "<p>\n",
       "  If you're reading this message in the Jupyter Notebook or JupyterLab Notebook, it may mean\n",
       "  that the widgets JavaScript is still loading. If this message persists, it\n",
       "  likely means that the widgets JavaScript library is either not installed or\n",
       "  not enabled. See the <a href=\"https://ipywidgets.readthedocs.io/en/stable/user_install.html\">Jupyter\n",
       "  Widgets Documentation</a> for setup instructions.\n",
       "</p>\n",
       "<p>\n",
       "  If you're reading this message in another frontend (for example, a static\n",
       "  rendering on GitHub or <a href=\"https://nbviewer.jupyter.org/\">NBViewer</a>),\n",
       "  it may mean that your frontend doesn't currently support widgets.\n",
       "</p>\n"
      ],
>>>>>>> 6407107... proj1
=======
>>>>>>> 6c349b8... proj1 update
      "text/plain": [
       "HBox(children=(IntProgress(value=0, max=30000), HTML(value='')))"
      ]
     },
     "metadata": {},
     "output_type": "display_data"
    },
    {
     "name": "stdout",
     "output_type": "stream",
     "text": [
<<<<<<< HEAD
<<<<<<< HEAD
      "training accuracy 88.026667 %\n"
=======
      "training accuracy 88.120000 %\n"
>>>>>>> 6407107... proj1
=======
      "training accuracy 88.026667 %\n"
>>>>>>> 6c349b8... proj1 update
     ]
    },
    {
     "data": {
      "application/vnd.jupyter.widget-view+json": {
       "model_id": "",
       "version_major": 2,
       "version_minor": 0
      },
<<<<<<< HEAD
<<<<<<< HEAD
=======
      "text/html": [
       "<p>Failed to display Jupyter Widget of type <code>HBox</code>.</p>\n",
       "<p>\n",
       "  If you're reading this message in the Jupyter Notebook or JupyterLab Notebook, it may mean\n",
       "  that the widgets JavaScript is still loading. If this message persists, it\n",
       "  likely means that the widgets JavaScript library is either not installed or\n",
       "  not enabled. See the <a href=\"https://ipywidgets.readthedocs.io/en/stable/user_install.html\">Jupyter\n",
       "  Widgets Documentation</a> for setup instructions.\n",
       "</p>\n",
       "<p>\n",
       "  If you're reading this message in another frontend (for example, a static\n",
       "  rendering on GitHub or <a href=\"https://nbviewer.jupyter.org/\">NBViewer</a>),\n",
       "  it may mean that your frontend doesn't currently support widgets.\n",
       "</p>\n"
      ],
>>>>>>> 6407107... proj1
=======
>>>>>>> 6c349b8... proj1 update
      "text/plain": [
       "HBox(children=(IntProgress(value=0, max=10000), HTML(value='')))"
      ]
     },
     "metadata": {},
     "output_type": "display_data"
    },
    {
     "name": "stdout",
     "output_type": "stream",
     "text": [
<<<<<<< HEAD
<<<<<<< HEAD
      "validation accuracy 50.360000 %\n",
=======
      "validation accuracy 50.120000 %\n",
>>>>>>> 6407107... proj1
=======
      "validation accuracy 50.360000 %\n",
>>>>>>> 6c349b8... proj1 update
      "-------------\n",
      "epoch 3\n"
     ]
    },
    {
     "data": {
      "application/vnd.jupyter.widget-view+json": {
       "model_id": "",
       "version_major": 2,
       "version_minor": 0
      },
<<<<<<< HEAD
<<<<<<< HEAD
=======
      "text/html": [
       "<p>Failed to display Jupyter Widget of type <code>HBox</code>.</p>\n",
       "<p>\n",
       "  If you're reading this message in the Jupyter Notebook or JupyterLab Notebook, it may mean\n",
       "  that the widgets JavaScript is still loading. If this message persists, it\n",
       "  likely means that the widgets JavaScript library is either not installed or\n",
       "  not enabled. See the <a href=\"https://ipywidgets.readthedocs.io/en/stable/user_install.html\">Jupyter\n",
       "  Widgets Documentation</a> for setup instructions.\n",
       "</p>\n",
       "<p>\n",
       "  If you're reading this message in another frontend (for example, a static\n",
       "  rendering on GitHub or <a href=\"https://nbviewer.jupyter.org/\">NBViewer</a>),\n",
       "  it may mean that your frontend doesn't currently support widgets.\n",
       "</p>\n"
      ],
>>>>>>> 6407107... proj1
=======
>>>>>>> 6c349b8... proj1 update
      "text/plain": [
       "HBox(children=(IntProgress(value=0, max=30000), HTML(value='')))"
      ]
     },
     "metadata": {},
     "output_type": "display_data"
    },
    {
     "name": "stdout",
     "output_type": "stream",
     "text": [
<<<<<<< HEAD
<<<<<<< HEAD
      "training accuracy 89.406667 %\n"
=======
      "training accuracy 89.583333 %\n"
>>>>>>> 6407107... proj1
=======
      "training accuracy 89.406667 %\n"
>>>>>>> 6c349b8... proj1 update
     ]
    },
    {
     "data": {
      "application/vnd.jupyter.widget-view+json": {
       "model_id": "",
       "version_major": 2,
       "version_minor": 0
      },
<<<<<<< HEAD
<<<<<<< HEAD
=======
      "text/html": [
       "<p>Failed to display Jupyter Widget of type <code>HBox</code>.</p>\n",
       "<p>\n",
       "  If you're reading this message in the Jupyter Notebook or JupyterLab Notebook, it may mean\n",
       "  that the widgets JavaScript is still loading. If this message persists, it\n",
       "  likely means that the widgets JavaScript library is either not installed or\n",
       "  not enabled. See the <a href=\"https://ipywidgets.readthedocs.io/en/stable/user_install.html\">Jupyter\n",
       "  Widgets Documentation</a> for setup instructions.\n",
       "</p>\n",
       "<p>\n",
       "  If you're reading this message in another frontend (for example, a static\n",
       "  rendering on GitHub or <a href=\"https://nbviewer.jupyter.org/\">NBViewer</a>),\n",
       "  it may mean that your frontend doesn't currently support widgets.\n",
       "</p>\n"
      ],
>>>>>>> 6407107... proj1
=======
>>>>>>> 6c349b8... proj1 update
      "text/plain": [
       "HBox(children=(IntProgress(value=0, max=10000), HTML(value='')))"
      ]
     },
     "metadata": {},
     "output_type": "display_data"
    },
    {
     "name": "stdout",
     "output_type": "stream",
     "text": [
<<<<<<< HEAD
<<<<<<< HEAD
      "validation accuracy 50.100000 %\n",
=======
      "validation accuracy 50.110000 %\n",
>>>>>>> 6407107... proj1
=======
      "validation accuracy 50.100000 %\n",
>>>>>>> 6c349b8... proj1 update
      "-------------\n",
      "epoch 4\n"
     ]
    },
    {
     "data": {
      "application/vnd.jupyter.widget-view+json": {
       "model_id": "",
       "version_major": 2,
       "version_minor": 0
      },
<<<<<<< HEAD
<<<<<<< HEAD
=======
      "text/html": [
       "<p>Failed to display Jupyter Widget of type <code>HBox</code>.</p>\n",
       "<p>\n",
       "  If you're reading this message in the Jupyter Notebook or JupyterLab Notebook, it may mean\n",
       "  that the widgets JavaScript is still loading. If this message persists, it\n",
       "  likely means that the widgets JavaScript library is either not installed or\n",
       "  not enabled. See the <a href=\"https://ipywidgets.readthedocs.io/en/stable/user_install.html\">Jupyter\n",
       "  Widgets Documentation</a> for setup instructions.\n",
       "</p>\n",
       "<p>\n",
       "  If you're reading this message in another frontend (for example, a static\n",
       "  rendering on GitHub or <a href=\"https://nbviewer.jupyter.org/\">NBViewer</a>),\n",
       "  it may mean that your frontend doesn't currently support widgets.\n",
       "</p>\n"
      ],
>>>>>>> 6407107... proj1
=======
>>>>>>> 6c349b8... proj1 update
      "text/plain": [
       "HBox(children=(IntProgress(value=0, max=30000), HTML(value='')))"
      ]
     },
     "metadata": {},
     "output_type": "display_data"
    },
    {
     "name": "stdout",
     "output_type": "stream",
     "text": [
<<<<<<< HEAD
<<<<<<< HEAD
      "training accuracy 90.393333 %\n"
=======
      "training accuracy 90.406667 %\n"
>>>>>>> 6407107... proj1
=======
      "training accuracy 90.393333 %\n"
>>>>>>> 6c349b8... proj1 update
     ]
    },
    {
     "data": {
      "application/vnd.jupyter.widget-view+json": {
       "model_id": "",
       "version_major": 2,
       "version_minor": 0
      },
<<<<<<< HEAD
<<<<<<< HEAD
=======
      "text/html": [
       "<p>Failed to display Jupyter Widget of type <code>HBox</code>.</p>\n",
       "<p>\n",
       "  If you're reading this message in the Jupyter Notebook or JupyterLab Notebook, it may mean\n",
       "  that the widgets JavaScript is still loading. If this message persists, it\n",
       "  likely means that the widgets JavaScript library is either not installed or\n",
       "  not enabled. See the <a href=\"https://ipywidgets.readthedocs.io/en/stable/user_install.html\">Jupyter\n",
       "  Widgets Documentation</a> for setup instructions.\n",
       "</p>\n",
       "<p>\n",
       "  If you're reading this message in another frontend (for example, a static\n",
       "  rendering on GitHub or <a href=\"https://nbviewer.jupyter.org/\">NBViewer</a>),\n",
       "  it may mean that your frontend doesn't currently support widgets.\n",
       "</p>\n"
      ],
>>>>>>> 6407107... proj1
=======
>>>>>>> 6c349b8... proj1 update
      "text/plain": [
       "HBox(children=(IntProgress(value=0, max=10000), HTML(value='')))"
      ]
     },
     "metadata": {},
     "output_type": "display_data"
    },
    {
     "name": "stdout",
     "output_type": "stream",
     "text": [
<<<<<<< HEAD
<<<<<<< HEAD
      "validation accuracy 49.980000 %\n",
=======
      "validation accuracy 49.860000 %\n",
>>>>>>> 6407107... proj1
=======
      "validation accuracy 49.980000 %\n",
>>>>>>> 6c349b8... proj1 update
      "\n"
     ]
    },
    {
     "data": {
<<<<<<< HEAD
<<<<<<< HEAD
      "image/png": "iVBORw0KGgoAAAANSUhEUgAAAYIAAAEWCAYAAABrDZDcAAAABHNCSVQICAgIfAhkiAAAAAlwSFlzAAALEgAACxIB0t1+/AAAIABJREFUeJzt3XucHXV9//HXO3vJZrO7JNnc1oSQhAQSRAjJEqMgl6BVQEGqXFS8ayjQSPtTK9pf1ba25dfa2kIFBESpckcpSpWKYBDloglEiCQQCEkI5E4um8sme/n8/pjZZLNsds8mmXN297yfj8d5nDMz35n5nMnm+/nOd+Z8RxGBmZkVrwGFDsDMzArLicDMrMg5EZiZFTknAjOzIudEYGZW5JwIzMyKnBOB9SuSSiRtkzTuUJbtKyStknRaoeOwvsWJwAoqrYjbXq2Sdrab/khPtxcRLRFRFRErD2XZnpL0DUlN6ffYLOm3kmYe6v3kEMP387lP65ucCKyg0oq4KiKqgJXA+9rNu7VjeUml+Y/ygN2afq8RwKPA3QWOx6xTTgTWq6Wt2jsl3S6pAbhY0tskPZG2tFdLulpSWVq+VFJIGp9O/zBd/nNJDZIelzShp2XT5WdKekHSFknXpK38T3T3HSKiCbgNGCdpaLvtnSPpD+n3+I2kY9st+4qk1yRtlbSkrbsnjfHr7cq9U9LyTo7be4G/Aj6SnpUsSOd/WtLy9Pstk3RRTv8Q1q85EVhfcB5JRXoYcCfQDFwBDAdOAt4DXNLF+h8G/gYYRnLW8fc9LStpJHAX8MV0vy8DOXX1SBoIfAxYD2xN550I3Ah8BqgFbgbuk1Qu6c3p95keETXAmWksOYuI+4F/Jj0riYgZkmqAfwPeFRHVJMfumZ5s1/onJwLrC34TET+NiNaI2BkRv4+IJyOiOSKWATcAp3ax/j0RMT9tmd8KTDuAsu8FFkbEfemybwEbuon7w5I2AzuAjwMfjIiWdNkc4Nr0u7RExM3p/BNJEl0F8GZJpRHxcvo9D4UAjpVUERGrI+K5Q7Rd68OcCKwveKX9hKQpkv5H0hpJW4G/I2ml78+adp93AFUHUPZN7eOIZLTGVd3EfVtEDAFGA88DJ7RbdgTwpbRbaHOaMOqAMRHxPPB5ku+1Lu0WG93NvroVEVuBDwGXA2sk3S/pqIPdrvV9TgTWF3QcIvc7wCJgUtp18lVAGcewGhjbNiFJwJhcVoyI9SRnAN+QNCqd/QrwtxExpN2rMiLuStf5YUScBEwASoB/StfbDlS223xXCeINQwtHxM8j4p0kSedFkmNpRc6JwPqiamALsF3SVLq+PnCo3A9Ml/S+9M6lK0juBspJ2gXzEPCFdNaNwOWSTlSiKt32YElTJZ2eXlvYmb5a0/UWAmdLGiqpDvhcF7tdC4xPkxaS6tJ9VAK7SZJKaxfrW5FwIrC+6PMkfe4NJC3aO7PeYUSsBS4kudi6ETgSeBrY1YPN/AtwqaThEfEEcClwHbAJeAG4OC03kORC7waSrqqhwF+ny74PLAZWAA8Ad3SxvzuBcuB1Sb8jObP4IsnZzUbg7STdRFbk5AfTmPWcpBLgNZILwI8WOh6zg+EzArMcSXqPpCFpl83fAE3A7wocltlBcyIwy93JwDKS3wO8GzgvInrSNWTWK7lryMysyPmMwMysyPWJAbyGDx8e48ePL3QYZmZ9yoIFCzZERLe3OfeJRDB+/Hjmz59f6DDMzPoUSStyKeeuITOzIudEYGZW5JwIzMyKXJ+4RtCZpqYmVq1aRWNjY6FDyVRFRQVjx46lrKys0KGYWT/VZxPBqlWrqK6uZvz48aRjavU7EcHGjRtZtWoVEyZM6H4FM7MD0Ge7hhobG6mtre23SQBAErW1tf3+rMfMCqvPJgKgXyeBNsXwHc2ssDLtGpJ0BfBZkoeG3BgR/y5pGMnwuOOB5cAFEbEpyzjMzHqjltZgW2MzWxub2LKzia2NTWzd2czWPZ+b+MCMsRxROzjTODJLBJKOJUkCM0kegvGApPtJntT0UERcJelK4ErgS1nFkZXNmzdz2223cdlll/VovbPOOovbbruNIUOGZBSZmeVLa2vQsKt9xd28pwLf2rjv/C3tKveGdFnDruYuty/BCUcM7buJAJgKPBkROwAkPQL8KXAucFpa5hZgHn00EVx77bVvSATNzc2Ulu7/sP7sZz/LOjQzy1Fra7B9d/PeSrtdBb6l08p93+mGXc10N25ndUUpNRVl1Awqo6ailMOHVabTe+cfli5LyqTLBpVRVV7KgAHZdw9nmQgWAf8gqZbkUXtnAfOBURGxOi2zBhjV2cqS5pCcPTBu3LgMwzwwV155JS+99BLTpk2jrKyMiooKhg4dypIlS3jhhRd4//vfzyuvvEJjYyNXXHEFc+bMAfYOl7Ft2zbOPPNMTj75ZB577DHGjBnDfffdx6BBgwr8zcz6johgx+6W/Xar7LdVnk43NDbR2k1FXjWwdJ9K+k1DKpgyqHqfyn2fCryirWIvo6qilJI8VOQHK7NEEBGLJf0/4Bckz0ZdCLR0KBOSOv1niIgbgBsA6uvru/yn+tuf/pHnXtt6SOJuc8ybavja+9683+VXXXUVixYtYuHChcybN4+zzz6bRYsW7bnN8+abb2bYsGHs3LmTE088kQ984APU1tbus42lS5dy++23c+ONN3LBBRfwox/9iIsvvriz3Zn1SxHBzqaWTlvdW3Z20grvpPulpZuavLK8ZE/FXDOolNE1FRw1qnr/FXi7eVUDSykt6dP31OQk04vFEfFd4LsAkv4RWAWslVQXEavTh2+vyzKGfJk5c+Y+9/pfffXV3HvvvQC88sorLF269A2JYMKECUybNg2AGTNmsHz58rzFa5aFxqYWNm7fzcZtu9iwbRcbtu1mw7ZdbEzfX9++u10Fn7TWm7upyAeVlezTjTK8qpyJIwa3q7jbd73sO11dUUpZEVTkByvru4ZGRsQ6SeNIrg/MAiaQPHj8qvT9voPdT1ct93wZPHjvxZx58+bxy1/+kscff5zKykpOO+20Tn8LMHDgwD2fS0pK2LlzZ15iNctVRHIxdEPDLjZu382Ghl1saHtvV8G3Ldvfxc/K8hKGVw1k2OByhg0uZ3zt4C4r8LY+8+qKMspLXZFnLetfFv8ovUbQBFweEZslXQXcJenTwArggoxjyER1dTUNDQ2dLtuyZQtDhw6lsrKSJUuW8MQTT+Q5OrP9a2kNXt++b0t939Z78nnjtqTS393c+oZtSDC0spzaweUMrxrIm99Uw/CqgQyvSqZr9/lcTmV5nx3EoChk3TX0jk7mbQTOyHK/+VBbW8tJJ53Esccey6BBgxg1au817/e85z1cf/31TJ06laOPPppZs2YVMFIrBo1NLXsq847dMu3nbdy2m9d37O70TpeyEu2puIdXDeSoUdUMry5n+OCBDK8up3bwwKSyry5nWGV5UfSdF4s+8czi+vr66PhgmsWLFzN16tQCRZRfxfRdLRERbN3ZzPr2LfTtu/bpmtnYrlW/bT9dMlUDS/dpmbe11kdUlaet9r3zaypK/Uv2fkbSgoio766cz9fM8qSppZVN23enlXvHrpm2vvZdbGhIKv2mljc20iSoHZy2zqvLOX7skD2V+Yh9KvvkvaKspADf1PoaJwKzg7BjdzMbt3Ws3Nt3y+ydv2lHU6fbKC8dsKcSH1ldwdTRNQyvHtihzz15H1pZ3ifuS7e+xYnALActrcHLG7azePVWlqzZyuLVDSxevZXVWzofGbamojStyAcyaWQVsybW7qnMO15QrRroLhkrLCcCsw627Ghi8ZqtSaW/uoHFa7by/JoGdqV3z5QOEEeOqOKtE4YxeVQ1I/e03tMLqYPLGVjqLhnrO5wIrGi1tAbLN27fW+GvTir/19q18ocNLmdqXTUfnXUEU+pqmFpXzaSRVa7orV9xIrCisGVnE0vSin7JmqTSf35tA41NSSu/ZIA4csRgTpwwjKl1NUwZXc0xdTWMqB7obhvr95wIDpGvf/3rVFVV8YUvfKHQoRS1ltZgxcbtLF7dkPblJ/35r27e+6vtoZVlTK2r4SNvPWJPpT95lFv5VrycCKzP2trYtKdLZ8marTy3uoEX1jSwsykZ27BkgJg4fDAzjhjKxbOOYEpd0sof6Va+2T6cCA7CP/zDP3DLLbcwcuRIDj/8cGbMmMFLL73E5Zdfzvr166msrOTGG2+krq6O4447jpdffpkBAwawfft2pkyZwrJlyygrKyv01+j1WluDFa/v2NOH33bHTvtW/pDKMqaOruFDM8cxta6aqXU1TBpZ5fvozXLQPxLBz6+ENc8e2m2OfgucedV+Fy9YsIA77riDhQsX0tzczPTp05kxYwZz5szh+uuvZ/LkyTz55JNcdtllPPzww0ybNo1HHnmE008/nfvvv593v/vdTgKd2NrYxPNrGvap8J9v18ofIJg4oorpRwzlI7PGMXV0DVPrahhV41a+2YHqH4mgAB599FHOO+88KisrATjnnHNobGzkscce4/zzz99TbteuXQBceOGF3HnnnZx++unccccdPX7EZX/T2hqsbN/KTyv/VZv2tvIPG1TG1LpqLpp5OFPrapg6uobJo9zKNzvU+kci6KLlnk+tra0MGTKEhQsXvmHZOeecw1e+8hVef/11FixYwOzZswsQYWE0tG/lr9nbyt+xe99W/rTDh+zTtTO6psKtfLM86B+JoABOOeUUPvGJT/DlL3+Z5uZmfvrTn3LJJZcwYcIE7r77bs4//3wigmeeeYbjjz+eqqoqTjzxRK644gre+973UlLS/1q1ra3BK5uSVv5zqxuS2zXXbOWV1/e28msqSplaV8MF9YdzTF0NU+qqOWpUtVv5ZgXkRHCApk+fzoUXXsjxxx/PyJEjOfHEEwG49dZbufTSS/nGN75BU1MTF110EccffzyQdA+df/75zJs3r4CRHxrbdjXzfHqnTvKDrKSVv71dK3/88MEcN3YIF504jimjk1Z+3WFu5Zv1NpkOQy3pL4HPAAE8C3wSuBL4LLA+LfaViPhZV9vxMNSF+657W/kN+4yzs/L1HXvK1FSUMqWuhmPSX95OGV3DUaOqGVTuVr5ZIRV8GGpJY4DPAcdExE5JdwEXpYu/FRHfzGrfdmCaW1r5w6otey7gLlmTdO+0tfIlmDB8MG8ZcxgX1I9lyugapr6phje5lW/Wp2XdNVQKDJLUBFQCrwHjM96n9dDu5lZ+9NQqrp334p7+/OqKUqaOruGDM8Ymv76tq+Fot/LN+qXMEkFEvCrpm8BKYCfwi4j4haS3A3MlfQyYD3w+IjZ1XF/SHGAOwLhx4/a3j37fEs2y666xqYW75r/C9fNe4rUtjRw39jC++O4pTB83hDFDBvX7Y2tmiSy7hoYC5wITgM3A3ZIuBq4D/p7kusHfA/8KfKrj+hFxA3ADJNcIOi6vqKhg48aN1NbW9tsKKyLYuHEjFRUVh3S7O3e3cNvvVvKdR15iXcMuZhwxlH/807dw6lEj+u2xNLP9y7Jr6J3AyxGxHkDSj4G3R8QP2wpIuhG4/0A2PnbsWFatWsX69eu7L9yHVVRUMHbs2EOyre27mvnBEyu46dFlbNi2m1kTh/HvF07jbUf232RqZt3LMhGsBGZJqiTpGjoDmC+pLiJWp2XOAxYdyMbLysqYMGHCoYm0n9va2MQtv13Od3/7Mpt3NPGOycOZO3syMycMK3RoZtYLZHmN4ElJ9wBPAc3A0yRdPTdJmkbSNbQcuCSrGIrd5h27ufm3y/neb1+mobGZ2VNGMnf2JE4YN7TQoZlZL5LpXUMR8TXgax1mfzTLfRps3LaLm37zMj94fAXbdjXz7jePYu7syRw75rBCh2ZmvZB/WdyPrGto5MZfL+OHT6yksbmFs95Sx9zZk5gyuqbQoZlZL+ZE0A+s3rKT7zyyjNt/t5KmllbOnTaGy08/kkkjqwsdmpn1AU4Efdgrr+/gukde4p75q2iN4E+nj+Gy0yYxfvjgQodmZn2IE0EftHzDdq6d9yI/fupVJDi//nAuPfVIDh9WWejQzKwPciLoQ15ct41v/+pF7lv4KqUlA7h41hFccupE6g4bVOjQzKwPcyLoA55f08A1Dy/lf55dTUVpCZ86aQJzTpnIyJpD+4tjMytOTgS92KJXt3DNw0v53z+uZXB5CX926pF85uQJ1FYNLHRoZtaPOBH0Qk+v3MQ1D7/Iw0vWUV1RyufOmMynThrPkMryQodmZv2QE0Ev8vvlr3P1Q0t5dOkGhlSW8fl3HcXHTxpPTUVZoUMzs37MiaDAIoLHl23k6oeW8sSy16kdXM6VZ07h4llHUDXQ/zxmlj3XNAUSEfx66QaueWgp81dsYmT1QP7v2VP58FvHUVnufxYzyx/XOHkWETy0eB3XPLyUP6zaQt1hFfzduW/mgvrDqSjz07/MLP+cCPKktTX43z+u4ZqHX+S51VsZO3QQ/3jeW/jAjDEMLHUCMLPCcSLIWEtr8D/PruY/H17KC2u3MWH4YP7lg8fx/hPGUFYyoNDhmZk5EWSluaWV+xa+xrfnvciy9duZNLKK/7hoGme/pY5SJwAz60WcCA6x3c2t3Pv0Kr79q5dY+foOpoyu5tsfns6Zx45mwAA/DtLMep9ME4GkvwQ+Q/I0smeBTwKVwJ3AeJInlF0QEZuyjCMfdjW3cNf8VVw/7yVe3byTt4w5jBs+OoN3Th3lBGBmvVpmiUDSGOBzwDERsVPSXcBFwDHAQxFxlaQrgSuBL2UVR9Yam1q4/Xcr+c4jy1iztZETxg3hG+cdy2lHjfAD4c2sT8i6a6gUGCSpieRM4DXgy8Bp6fJbgHn0wUSwfVcztz65ght+/TIbtu1i5oRhfPP84zlpUq0TgJn1KVk+vP5VSd8EVgI7gV9ExC8kjYqI1WmxNcCoztaXNAeYAzBu3LiswuyxhsYm/uvxFdz06DI27Wji5EnDmTv7BN46sbbQoZmZHZAsu4aGAucCE4DNwN2SLm5fJiJCUnS2fkTcANwAUF9f32mZfNqyo4nvPfYyN//mZbY2NnPa0SOYO3syM44YWujQzMwOSpZdQ+8EXo6I9QCSfgy8HVgrqS4iVkuqA9ZlGMNBe337br77m2X812MraNjVzLuOGcXc2ZM4buyQQodmZnZIZJkIVgKzJFWSdA2dAcwHtgMfB65K3+/LMIYDtr5hFzc9uowfPLGCnU0tnHVsHZefPolj3lRT6NDMzA6pLK8RPCnpHuApoBl4mqSrpwq4S9KngRXABVnFcCDWbGnkO79+idt/t5Ldza287/g38eenT2LyqOpCh2ZmlolM7xqKiK8BX+swexfJ2UGv8urmnVw370Xu+v0qWiI474QxXHbakUwcUVXo0MzMMlX0vyxeuXEH1857kR89tQqAD84Yy6WnTmJcbWWBIzMzy4+iTQQvrd/Gt3/1IvctfI2SAeJDM8dxyalHMmbIoEKHZmaWV0WXCF5Y28B/Pvwi9z/zGuWlA/j428ZzyakTGVVTUejQzMwKomgSwR9f28J/PvwiP1+0hsryEj57ykQ++46JDK8aWOjQzMwKqt8ngj+8splrHl7KLxevo3pgKXNnT+JTJ01g6ODyQodmZtYr9OtE8Hc/fY6bf/syhw0q4y/feRSfOGk8hw0qK3RYZma9Sr9OBCdPrmV4dTkfnXUE1RVOAGZmnenXiWD2lFHMntLpmHZmZpbyMxPNzIqcE4GZWZFzIjAzK3JOBGZmRc6JwMysyDkRmJkVOScCM7Mil+Uzi48G7mw3ayLwVWAI8FlgfTr/KxHxs6ziMDOzrmX5hLLngWkAkkqAV4F7gU8C34qIb2a1bzMzy12+uobOAF6KiBV52p+ZmeUoX4ngIuD2dtNzJT0j6WZJQztbQdIcSfMlzV+/fn1nRczM7BDIPBFIKgfOAe5OZ11Hcr1gGrAa+NfO1ouIGyKiPiLqR4wYkXWYZmZFKx9nBGcCT0XEWoCIWBsRLRHRCtwIzMxDDGZmth/5SAQfol23kKS6dsvOAxblIQYzM9uPnBKBpB9LOltSjxKHpMHAu4Aft5v9z5KelfQMcDrwlz3ZppmZHVq53j56Lcltn1dLuhv4Xnp7aJciYjtQ22HeR3scpZmZZSanFn5E/DIiPgJMB5YDv5T0mKRPSvKjv8zM+rCcu3ok1QKfAD4DPA38B0lieDCTyMzMLC9y6hqSdC9wNPAD4H0RsTpddKek+VkFZ2Zm2cv1GsHVEfGrzhZERP0hjMfMzPIs166hYyQNaZuQNFTSZRnFZGZmeZRrIvhsRGxum4iITSQjiJqZWR+XayIokaS2iXQ00fJsQjIzs3zK9RrBAyQXhr+TTl+SzjMzsz4u10TwJZLK/9J0+kHgpkwiMjOzvMopEaQDxF2XvszMrB/J9XcEk4F/Ao4BKtrmR8TEjOIyM7M8yfVi8fdIzgaaSQaK+y/gh1kFZWZm+ZNrIhgUEQ8BiogVEfF14OzswjIzs3zJ9WLxrnQI6qWS/pzkQfRV2YVlZmb5kusZwRVAJfA5YAZwMfDxrIIyM7P86TYRpD8euzAitkXEqoj4ZER8ICKe6Ga9oyUtbPfaKukvJA2T9KCkpel7pw+vNzOz/Og2EUREC3ByTzccEc9HxLSImEZyFrEDuBe4EngoIiYDD6XTZmZWILleI3ha0k+Au4HtbTMj4sf7X2UfZwAvRcQKSecCp6XzbwHmkfxgzczMCiDXRFABbARmt5sX7Pss4q5cxN4H2I9q9zyDNcCozlaQNAeYAzBu3Lgcd2NmZj2liMh2B1I58Brw5ohYK2lzRLQf0npTRHR5naC+vj7mz/fzb8zMekLSglyeGZPrL4u/R3IGsI+I+FQOq58JPBURa9PptZLqImK1pDpgXS4xmJlZNnLtGrq/3ecK4DySVn4uPsTebiGAn5DcenpV+n5fjtsxM7MM5Dro3I/aT0u6HfhNd+tJGgy8i2Tk0jZXAXdJ+jSwArgg52jNzOyQy/WMoKPJwMjuCkXEdqC2w7yNJHcRmZlZL5DrNYIG9r1GsAbf8mlm1i/k2jVUnXUgZmZWGDmNNSTpPEmHtZseIun92YVlZmb5kuugc1+LiC1tExGxGfhaNiGZmVk+5ZoIOit3oBeazcysF8k1EcyX9G+Sjkxf/wYsyDIwMzPLj1wTwVxgN3AncAfQCFyeVVBmZpY/ud41tB0PF21m1i/letfQg5LaDxQ3VNL/ZheWmZnlS65dQ8PTO4UAiIhN5PDLYjMz6/1yTQStkvY8FEDSeDoZjdTMzPqeXG8B/WvgN5IeAQS8g/ShMWZm1rflerH4AUn1JJX/08B/AzuzDMzMzPIj10HnPgNcAYwFFgKzgMfZ99GVZmbWB+V6jeAK4ERgRUScDpwAbO56FTMz6wtyTQSNEdEIIGlgRCwBju5upXRwunskLZG0WNLbJH1d0quSFqavsw7mC5iZ2cHJ9WLxqvR3BP8NPChpE8nTxbrzH8ADEfHB9CH2lcC7gW9FxDcPKGIzMzukcr1YfF768euSfgUcBjzQ1TrpsNWnAJ9It7Eb2C3pgIM1M7NDL9euoT0i4pGI+ElasXdlArAe+J6kpyXdlD7DGGCupGck3SxpaGcrS5ojab6k+evXr+9pmGZmlqMeJ4IeKAWmA9dFxAlA23hF1wETgWnAauBfO1s5Im6IiPqIqB8xYkSGYZqZFbcsE8EqYFVEPJlO3wNMj4i1EdESEa3AjcDMDGMwM7NuZJYIImIN8IqktruLzgCek1TXrth5wKKsYjAzs+5l/ZSxucCt6R1Dy4BPAldLmkYyVtFy4JKMYzAzsy5kmggiYiFQ32H2R7Pcp5mZ9UyW1wjMzKwPcCIwMytyTgRmZkXOicDMrMg5EZiZFTknAjOzIudEYGZW5JwIzMyKnBOBmVmRcyIwMytyTgRmZkXOicDMrMg5EZiZFTknAjOzIudEYGZW5JwIzMyKXKaJQNIQSfdIWiJpsaS3SRom6UFJS9P3oVnGYGZmXcv6jOA/gAciYgpwPLAYuBJ4KCImAw+l02ZmViCZJQJJhwGnAN8FiIjdEbEZOBe4JS12C/D+rGIwM7PuZXlGMAFYD3xP0tOSbpI0GBgVEavTMmuAUZ2tLGmOpPmS5q9fvz7DMM3MiluWiaAUmA5cFxEnANvp0A0UEQFEZytHxA0RUR8R9SNGjMgwTDOz4pZlIlgFrIqIJ9Ppe0gSw1pJdQDp+7oMYzAzs25klggiYg3wiqSj01lnAM8BPwE+ns77OHBfVjGYmVn3SjPe/lzgVknlwDLgkyTJ5y5JnwZWABdkHIOZmXUh00QQEQuB+k4WnZHlfs3MLHf+ZbGZWZFzIjAzK3JOBGZmRc6JwMysyDkRmJkVOScCM7Mi50RgZlbknAjMzIqcE4GZWZFzIjAzK3JOBGZmRc6JwMysyDkRmJkVOScCM7Mi50RgZlbkMk0EkpZLelbSQknz03lfl/RqOm+hpLOyjMHMzLqW9RPKAE6PiA0d5n0rIr6Zh32bmVk33DVkZlbksk4EAfxS0gJJc9rNnyvpGUk3Sxra2YqS5kiaL2n++vXrMw7TzKx4ZZ0ITo6IacCZwOWSTgGuAyYC04DVwL92tmJE3BAR9RFRP2LEiIzDNDMrXpkmgoh4NX1fB9wLzIyItRHREhGtwI3AzCxjMDOzrmWWCCQNllTd9hn4E2CRpLp2xc4DFmUVg5mZdS/Lu4ZGAfdKatvPbRHxgKQfSJpGcv1gOXBJhjGYmVk3MksEEbEMOL6T+R/Nap9mZtZzvn3UzKzIORGYmRU5JwIzsyLnRGBmVuScCMzMipwTgZlZkXMiMDMrck4EZmZFzonAzKzIORGYmRU5JwIzsyLnRGBmVuScCMzMipwTgZlZkXMiMDMrclk+mAZJy4EGoAVojoh6ScOAO4HxJA+muSAiNmUZh1mnIqC1BVqboLU5fbVAS4fprpZHCwwoTV9l6XtJ8l7SYXp/yzUAkgc4mRVEpokgdXpEbGg3fSXwUERcJenKdPpLeYjDuhPRoRLs5NXSxbJMlh9kRd3V8mgp9BHf62ASyT7LS/YmppIO090u7+TV423ksA+VJInPya/ibUw3AAAIEElEQVTXyEci6Ohc4LT08y3APIo5EbRVvi27oDl97fN5NzQ3QvPudH77z7mU72GZQtmnAippV+ml0yVl+19eWtH18u7WP5jlGpAklD3JpyV97zCd5fKm3Tmu37YsXR6thfv3bqMBXbzUs+V0Vr6H2+h0+cFuo0OZTuPsYjtTzoahR2T6z5B1Igjgl5JagO9ExA3AqIhYnS5fQ/Js4zeQNAeYAzBu3LhDHFUk/xk6rSR3JRVkc2OHz7tzKN9WprPyXWyHOARfSlA6EEoGJu+lA6GkPKkkS8vT+RVQcVi7+Z2VKe+mEuys1djFslwrWrcO86+1NUliuSSi/SWTA1kerXtfxL7T0Zr8/3zDvJ6UiRy3k3YNRlPX2+k0xlxj3d/ydtvuzvCj+nwiODkiXpU0EnhQ0pL2CyMiJHV6JNKkcQNAfX39gdWUj/wzPHNn5xX7Ial86VDxphVpaUVawabzB1Z3KNNFRb3ncw/Ll5S5MrWeGTAAGJD87ZQNKnQ0xSmi+2RSPjjzMDJNBBHxavq+TtK9wExgraS6iFgtqQ5Yl1kA1aNh9HH7qaj3U2l3W7G3+1xS7srXzA7cnmslhb2BM7NEIGkwMCAiGtLPfwL8HfAT4OPAVen7fVnFwPSPJS8zM9uvLM8IRgH3KmkxlwK3RcQDkn4P3CXp08AK4IIMYzAzs25klggiYhlwfCfzNwJnZLVfMzPrGf+y2MysyDkRmJkVOScCM7Mi50RgZlbknAjMzIqcE4GZWZFTxCEaaiFDktaT/ObgQAwHNnRbKv8cV884rp5xXD3TW+OCg4vtiIgY0V2hPpEIDoak+RFRX+g4OnJcPeO4esZx9UxvjQvyE5u7hszMipwTgZlZkSuGRHBDoQPYD8fVM46rZxxXz/TWuCAPsfX7awRmZta1YjgjMDOzLjgRmJkVuX6TCCS9R9Lzkl6UdGUnyyXp6nT5M5Km95K4TpO0RdLC9PXVPMR0s6R1khbtZ3mhjlV3ceX9WKX7PVzSryQ9J+mPkq7opEzej1mOcRXi76tC0u8k/SGN6287KVOI45VLXAX5G0v3XSLpaUn3d7Is2+MVEX3+BZQALwETgXLgD8AxHcqcBfwcEDALeLKXxHUacH+ej9cpwHRg0X6W5/1Y5RhX3o9Vut86YHr6uRp4oZf8feUSVyH+vgRUpZ/LgCeBWb3geOUSV0H+xtJ9/x/gts72n/Xx6i9nBDOBFyNiWUTsBu4Azu1Q5lzgvyLxBDAkfWZyoePKu4j4NfB6F0UKcaxyiasgImJ1RDyVfm4AFgNjOhTL+zHLMa68S4/BtnSyLH11vCulEMcrl7gKQtJY4Gzgpv0UyfR49ZdEMAZ4pd30Kt74HyKXMoWIC+Dt6enezyW9OeOYclGIY5Wrgh4rSeOBE0hak+0V9Jh1ERcU4Jil3RwLgXXAgxHRK45XDnFBYf7G/h34K6B1P8szPV79JRH0ZU8B4yLiOOAa4L8LHE9vVtBjJakK+BHwFxGxNZ/77ko3cRXkmEVES0RMA8YCMyUdm4/9dieHuPJ+vCS9F1gXEQuy3tf+9JdE8CpweLvpsem8npbJe1wRsbXtdDUifgaUSRqecVzdKcSx6lYhj5WkMpLK9taI+HEnRQpyzLqLq9B/XxGxGfgV8J4Oiwr6N7a/uAp0vE4CzpG0nKT7eLakH3Yok+nx6i+J4PfAZEkTJJUDFwE/6VDmJ8DH0qvvs4AtEbG60HFJGi1J6eeZJP8mGzOOqzuFOFbdKtSxSvf5XWBxRPzbforl/ZjlElchjpmkEZKGpJ8HAe8ClnQoVojj1W1chTheEfHliBgbEeNJ6oiHI+LiDsUyPV6lh2pDhRQRzZL+HPhfkjt1bo6IP0r6s3T59cDPSK68vwjsAD7ZS+L6IHCppGZgJ3BRpLcJZEXS7SR3RwyXtAr4GsmFs4IdqxzjyvuxSp0EfBR4Nu1fBvgKMK5dbIU4ZrnEVYhjVgfcIqmEpCK9KyLuL/T/xxzjKtTf2Bvk83h5iAkzsyLXX7qGzMzsADkRmJkVOScCM7Mi50RgZlbknAjMzIqcE4EVPUn/JOl0Se+X9OU87XN5L/jhoBngRGAG8FbgCeBU4NcFjsUs75wIrGhJ+hdJzwAnAo8DnwGuk/RVSUdKekDSAkmPSpqSrvN9SddLmi/phXScmLax7r8n6VklY8qfns4vkfRNSYvSgczmtgthrqSn0nWm5Pnrm+3RL35ZbHYgIuKLku4CPkYyFvy8iDgJQNJDwJ9FxFJJbwWuBWanq44nGWL8SOBXkiYBlyebjLeklfovJB1F8gvQ8cC09Jfmw9qFsCEipku6DPgCSSIyyzsnAit200keGDSFZDz/ttE83w7cnQ47AzCw3Tp3RUQrsFTSsnTdk0lGqyQilkhaARwFvBO4PiKa02Xtn7fQNkjcAuBPD/1XM8uNE4EVJUnTgO+TjOK4AahMZmshybWCzelwxZ3pOC7LgY7Tsit9b8H/F62AfI3AilJELEwr+heAY4CHgXdHxLSI2AK8LOl82PO82OPbrX6+pAGSjiR5DOnzwKPAR9LyR5EM/PY88CBwiaTSdFn7riGzXsGJwIqWpBHAprSbZ0pEPNdu8UeAT0v6A/BH9n3E6ErgdyTPkP2ziGgkuYYwQNKzwJ3AJyJiF8mjB1cCz6Tb+nDW38uspzz6qFkPSPo+ycPF7yl0LGaHis8IzMyKnM8IzMyKnM8IzMyKnBOBmVmRcyIwMytyTgRmZkXOicDMrMj9fyZhuFEysU3ZAAAAAElFTkSuQmCC\n",
      "text/plain": [
       "<matplotlib.figure.Figure at 0x7f0cb70d5cf8>"
=======
      "image/png": "iVBORw0KGgoAAAANSUhEUgAAAYIAAAEWCAYAAABrDZDcAAAABHNCSVQICAgIfAhkiAAAAAlwSFlzAAALEgAACxIB0t1+/AAAADl0RVh0U29mdHdhcmUAbWF0cGxvdGxpYiB2ZXJzaW9uIDIuMi4zLCBodHRwOi8vbWF0cGxvdGxpYi5vcmcvIxREBQAAIABJREFUeJzt3XmcFPWd//HXZ+6TaxhwuAQVEVBBGIlGY0CTjVc8oqirJupqMGoS89tNNmSPxORnEn+7+4hGN8bVxMTseuAR4xFjFBBj1iMBxQuQQUQZuRGYA5jz8/ujaoZm6GF6cKp7Zur9fDz6Md3VVd2fLujvu+pb1d8yd0dEROIrK9MFiIhIZikIRERiTkEgIhJzCgIRkZhTEIiIxJyCQEQk5hQE0m+YWbaZ1ZnZmJ6ct68ws2ozm5npOqTvURBIxoQNcdut1cx2JTy+pLuv5+4t7l7i7h/05LzdZWY3mllT+Dm2m9n/mtmMnn6fFGr4dTrfU/ouBYFkTNgQl7h7CfAB8PmEafd2nN/MctJf5QG7N/xc5cALwEMZrkekUwoC6bXCrdp5Zna/mdUCl5rZ8Wb2crilvd7MbjWz3HD+HDNzMxsbPv6f8Pk/mFmtmb1kZuO6O2/4/GlmttLMdpjZbeFW/uVdfQZ3bwLuA8aY2eCE1zvLzF4PP8efzezIhOf+yczWmVmNma1o6+4Ja7whYb7PmNmaJOvtTOAfgUvCvZIl4fQrzWxN+PlWm9lFKf1DSL+nIJDe7lyChnQgMA9oBq4HhgInAKcCV+9n+YuBfwWGEOx1/N/uzmtmw4AHgW+F7/sekFJXj5nlA18CNgM14bRjgbuAq4Ay4G7gMTPLM7PJ4eeZ5u4DgNPCWlLm7k8C/0a4V+Lu081sAPAT4LPuXkqw7t7ozutK/6UgkN7uz+7+hLu3uvsud/+ru7/i7s3uvhq4E/j0fpZ/2N0Xh1vm9wJTD2DeM4Gl7v5Y+NzNwJYu6r7YzLYDO4HLgPPdvSV8bg5we/hZWtz97nD6sQRBVwBMNrMcd38v/Jw9wYEjzazA3de7+7Ieel3p4xQE0tutTXxgZkeY2e/NbIOZ1QA/INhK78yGhPs7gZIDmHdEYh0ejNRY3UXd97n7IOAg4B3gmITnDga+HXYLbQ8DowIY6e7vAP9A8Lk2hd1iB3XxXl1y9xrgb4HrgA1m9qSZHf5xX1f6BwWB9HYdh8f9L+At4LCw6+S7gEVcw3pgVNsDMzNgZCoLuvtmgq6eG81seDh5LfB9dx+UcCty9wfDZf7H3U8AxgHZwI/D5eqBooSX319A7DOssLv/wd0/QxA6qwjWpYiCQPqcUmAHUG9mE9n/8YGe8iQwzcw+H565dD3B2UApcfe3gQXAN8NJdwLXmdmxFigJX7vYzCaa2azw2MKu8NbWpbQUOMPMBptZBfD1/bztRmBsGFqYWUX4HkVAI0GotOxneYkRBYH0Nf9A0OdeS7BFOy/qN3T3jcCFBAdbtwKHAq8BDd14mX8HrjGzoe7+CnAN8HNgG7ASuDScL5/gQO8Wgq6qwcC/hM/9GlgOvA88DTywn/ebB+QBH5nZXwj2LL5FsHezFfgk8NVu1C/9mOnCNCLdY2bZwDqCA8AvZLoekY9LewQiKTCzU81sYNhl868EZ/f8JcNlifQIBYFIak4EVhN02ZwKnOPu3ekaEum11DUkIhJz2iMQEYm5PjGI19ChQ33s2LGZLkNEpE9ZsmTJFnfv8lTnPhEEY8eOZfHixZkuQ0SkTzGz91OZT11DIiIxpyAQEYk5BYGISMz1iWMEyTQ1NVFdXc3u3bszXUqkCgoKGDVqFLm5uZkuRUT6qT4bBNXV1ZSWljJ27FjCcbX6HXdn69atVFdXM27cuK4XEBE5AH22a2j37t2UlZX12xAAMDPKysr6/V6PiGRWnw0CoF+HQJs4fEYRyaxIu4bM7HrgywQXDrnL3W8xsyEEQ+SOBdYAF7j7tijrEBHpTdydXU0t1O1upq6hmfqGFmobmqhvaKG+oZnahmbqG5qp293MlSeOY3BxXqT1RBYEZnYkQQjMILgQxtNm9vtw2gJ3v8nM5gJzgW9HVUdUtm/fzn333ce1117breVOP/107rvvPgYNGhRRZSIShdZWZ2dC413X1liHDXZ9Y8L9hmbqGlqoCxv3toa9PmHe1hSGecsyOHvqiL4bBMBE4GV33wlgZs8D5wJnAzPDee4BFtFHg+D222/fJwhaWlrIzs7udLmnnnoq6tJEJNTS6u0NduKWdn1DM7Vhg13f2NJ+f58Gfq/GO7ULuuVkGcX5OZSEt+L8bAYW5jJyUEH4OPG5JPcLgmVK83MpyM1KS/dwlEHwFvBDMysjuNze6cBiYLi7rwdw9/VmNizZwmY2B5gDMGbMmAjLPDBz587l3XffZerUqeTm5lJSUkJFRQVLly5l2bJlnHPOOaxdu5bdu3dz/fXXM2fOHGDPcBl1dXWcdtppnHjiibz44ouMHDmSxx57jMLCwgx/MpHMamppbW+I68Ot6rqwyyTp1vg+91vat8x3NaXWeOdlZ1Gcnx00wnlBgzykOI/RQ4ooDRvp4vychPvZlIbzFufnBPfDhjw/Jz2Nd0+KLAjcfbmZ/T/gWaAOeJ3gYh6pLn8nwbVdqays3O9O1PefeJtl62o+RrX7mjRiAN/7/OROn7/pppt46623WLp0KYsWLeKMM87grbfeaj/N8+6772bIkCHs2rWLY489lvPOO4+ysrK9XqOqqor777+fu+66iwsuuIBHHnmESy+9NNnbifQpLa3O1voGttQ2srmugc21wW3bzkZqd3fSrRJOb2huTek98nOy9mxBh433sNICiofmUJKfnXyLuyC8n7en8S7OzyY/p/O9+DiI9GCxu/8S+CWAmf0IqAY2mllFuDdQAWyKsoZ0mTFjxl7n+t966608+uijAKxdu5aqqqp9gmDcuHFMnToVgOnTp7NmzZq01SvSXe7Ojl1N7Y16ewOf0NBvqWtkc20DH9U3JO0DL8jNoiQ/N2yEsynOy2HEoIJ9trj3bbyz95mem92nT3rsVaI+a2iYu28yszHAF4DjgXEEFx+/Kfz72Md9n/1tuadLcXFx+/1FixYxf/58XnrpJYqKipg5c2bS3wLk5+e338/OzmbXrl1pqVWkjbtT39iS0JDvadTbH9ftud/Usm/rnpedRXlpPkNL8xk5qJCpowdSXpJPeWlwG1qy529xfp/9DWu/FvW/yiPhMYIm4Dp332ZmNwEPmtmVwAfA7IhriERpaSm1tbVJn9uxYweDBw+mqKiIFStW8PLLL6e5Oom73U0t7VvrW/bZam9IeK4xaT96lsHQkj2N+OHDS/dq1MsT/g4ozOlzfeKyt6i7hj6VZNpW4JQo3zcdysrKOOGEEzjyyCMpLCxk+PDh7c+deuqp3HHHHRx99NFMmDCB4447LoOVSn/R1NLK1rrGvbfaO3TPtDX6tbuTH44bXJTbvqU+fczgPQ17h633wUV5ZGepcY+LPnHN4srKSu94YZrly5czceLEDFWUXnH6rHHT2ups29mYfIs9Yat9c10DH9U3Jn2N0vyc9q6ZxC6Z8pJ8hpbmUV5SQHlpPmUleepXjxkzW+LulV3Npw47kR7m7tTsbu7QmCfvntla30hLkqOq+TlZDBsQNOYHlxVROXbw3l0zCY1+QW68z3iRj09BINJNzS2tvLelnmXra3h3U13YwDfuafBrG2hs2fcUyJwsa2/Ihw8o4MgRA8PGPY/y0oKE7pk8SvLV7y7poyAQ2Y/6hmZWbKhl2foalq3bwbJ1NazYUNt+rrsZlBXntTfwh5YXJz1jprwkn4GFuWSp3116IQWBSGhT7W6Wrath2foa3l5Xw/J1Nby3tZ62w2gDC3OZPGIAXzzuYCaNGMDkEQM5pLxY/e7S5ykIJHZaWp01W+tZti5o8IOt/Rq21DW0zzN6SCGTKgZw9tSRYaM/gIqBBequkX5JQSD92q7GFt7ZWBs2+jtYtr6GFetr28+dz802xg8rZeaEciZVDGDSiAFMrBjAwEJdGlTiQ0HQQ2644QZKSkr45je/melSYmtrXUP71n3blv7qzXXtQx2UFuQwqWIAF80Y3d7ojx9WSl6OunYk3hQE0ue0tjoffLQz7Mvf0d6vv7FmT9fOyEGFTKwYwOlHVTCpIujaGTW4UF07IkkoCD6GH/7wh/zmN79h9OjRlJeXM336dN59912uu+46Nm/eTFFREXfddRcVFRVMmTKF1atXk5WVxc6dO5kwYQKrV68mN1ddEPuzu6mFqo11LFu/I9jKX1fD8vU17WPDZ2cZh5WXcMKhQ5k0YgCTKoKunagv5CHSn/SPIPjDXNjwZs++5kFHwWk3dfr0kiVLeOCBB3jttddobm5m2rRpTJ8+nTlz5nDHHXcwfvx4XnnlFa699loWLlzIlClTeP7555k1axZPPPEEn/vc5xQCHWyrb2T5+pq9undWba5r/8FVcV42EysGcP70UWGjP5Dxw0v0gyqRj6l/BEEGvPDCC5x77rkUFRUBcNZZZ7F7925efPFFZs/eM45eQ0PQXXHhhRcyb948Zs2axQMPPNDtS1z2J+5O9bZdCWfsBN0763bsGaF1+IB8Jo8YyGcnDW/f0h8zpEjn4YtEoH8EwX623KPUsb+5tbWVQYMGsXTp0n3mPeuss/jOd77DRx99xJIlSzj55JPTVWZGNTa3UrWpdu/z89fXtA+KlmVwSHkJlWOHMHnEnrN2hpbkd/HKItJT+kcQZMBJJ53E5Zdfzty5c2lubuaJJ57g6quvZty4cTz00EPMnj0bd+eNN95gypQplJSUMGPGDK6//nrOPPPM/V7XuK/asasp6NpJaPRXbaptH8O+MDebIypKOWvKCCaPGMikEQOYMLyUwrz+ty5E+hIFwQGaNm0aF154IVOnTuXggw/mU58KRty+9957ueaaa7jxxhtpamrioosuYsqUKUDQPTR79mwWLVqUwco/Pndn3Y7wV7gJ5+dXb9tzYZ2hJXlMGjGQTx9e3r6lP7asWEMbi/RCGoa6D8jkZ21qaeXdzXUJjX6wtb9jVxMQjLUzrqyYiWE/flujP6y0ICP1isgeGoZauq2huYU3qnfsafTX72Dlhrr2kTTzc7I44qBSTj/qoPAHWQM54qBSXX5QpI/TN1hoaG5h3l/Xcvtz77KhJjhzZ3BRLpNHDOTyE8a2/wr3kKHF5GiANZF+p08Hgbv3+1+KRtl119jcyoOL1/Kz51axfsdujh07mBvOmsSU0YM4aIAGWBOJiz4bBAUFBWzdupWysrJ+22C5O1u3bqWgoGf72xubW3l4STU/e24VH27fxbQxg/i384/mxMOG9tt1KSKd67NBMGrUKKqrq9m8eXOmS4lUQUEBo0aN6pHXampp5ZEl1dy2MAiAqaMH8aMvHMVJ4xUAInHWZ4MgNzeXcePGZbqMPqGppZVHX/2Q256rYu1Hu5gyaiA3nnskMw8vVwCISN8NAulac0srv1u6jtsWVvH+1p0cNXIg3798MrMmDFMAiEg7BUE/1NzSyuOvr+O2hat4b0s9k0cM4BdfquSUiQoAEdmXgqAfaWl1nnh9HbcuqGL1lnomVgzgv744nb+ZNFwBICKdUhD0Ay2tzpNvBAHw7uZ6jjiolDsuncbfTDpIo3WKSJcUBH1Ya6vz+zfXc+uCKqo21XH48BJuv2Qap05WAIhI6hQEfVBrq/P02xv46fwq3tlYy/hhJfznxcdw+pEVCgAR6TYFQR/S2uo8s2wDt8yvYsWGWg4tL+anF03lzKNHaFRPETlgCoI+wN15ZtlGbplfxfL1NRwytJhbLpzK56coAETk41MQ9GLuzvzlm7hl/kreXlfD2LIifnLBFM6aMkKDv4lIj1EQ9ELuznPvbOKW+VW8Ub2DMUOK+I/ZUzhnqgJARHqegqAXcXcWrdzMLfOreH3tdkYPKeTfzjuac6eNJFcBICIRURD0Au7On6q2cPOzK1m6djsjBxVy0xeO4rzpoxQAIhI5BUEGuTt/XrWFW+ZXseT9bYwcVMiPzj2K86ePIi9HASAi6aEgyAB356V3t3Lz/JX8dc02KgYWcOM5RzK7chT5OdmZLk9EYkZBkGZtAfCX9z5i+IB8fnD2ZC48drQCQEQyRkGQJq+sDgLg5dUfMaw0nxs+P4mLZoyhIFcBICKZpSCI2OI1H3Hz/JX876qtlJfm890zJ3HxJxQAItJ7RBoEZvZ/gKsAB94ErgAqgAeAIcCrwBfdvTHKOjJhyfvbuGX+Sl6o2sLQkjz+5YyJXPKJgynMUwCISO8SWRCY2Ujg68Akd99lZg8CFwGnAze7+wNmdgdwJfDzqOpIt9c+2MbN86v408rNlBXn8c+nT+TS4xQAItJ7Rd01lAMUmlkTUASsB04GLg6fvwe4gX4QBK+v3c7N81ey6J3NDCnOY+5pR/Cl4w+mKE+9byLSu0XWSrn7h2b2H8AHwC7gGWAJsN3dm8PZqoGRyZY3sznAHIAxY8ZEVebH9mb1Dm6ev5KFKzYxqCiXfzx1ApcdP5bifAWAiPQNUXYNDQbOBsYB24GHgNOSzOrJlnf3O4E7ASorK5POk0lvfbiDW+ZXMX/5RgYW5vKtz03gsk+OpUQBICJ9TJSt1meA99x9M4CZ/Rb4JDDIzHLCvYJRwLoIa+hxy9bVcMv8lTyzbCMDCnL4+88ezhUnjKW0IDfTpYmIHJAog+AD4DgzKyLoGjoFWAw8B5xPcObQZcBjEdbQY1ZsqOGWZ6t4+u0NlBbk8I3PjOeKE8YxsFABICJ9W5THCF4xs4cJThFtBl4j6Or5PfCAmd0YTvtlVDX0hHc21PLTBSt56s0NlObn8PVTxnPliQoAEek/Iu3QdvfvAd/rMHk1MCPK9+0JVRtr+emCKn7/5nqKcrP56qzDuOpT4xhUlJfp0kREepSObHawalMdty6o4ok31lGYm801nz6UL3/qEAYXKwBEpH9SEIRWbw4C4PHX11GQm83VJx3KnJMOYYgCQET6udgHwZot9dy6sIrfvfYh+TnZfPlThzDnpEMoK8nPdGkiImkR2yB4f2s9ty1cxaOvfUhutvF3J4zj6k8fSnmpAkBE4iV2QbD2o53ctrCKR179kJws47Ljx/KVmYcwrLQg06WJiGREbIJg7Uc7+dlzq3h4STVZWcYXjzuYa2ceyrABCgARibd+HwQfbt/Fz55bxUOL12IYl3xiDNfMPIyDBioARESgnwfBj55azq/+9z0ALjx2NNfOPIwRgwozXJWISO/Sr4MgLzuL2ZWjuW7WYYxUAIiIJNWvg+Cbn5uQ6RJERHq9rEwXICIimaUgEBGJOQWBiEjMKQhERGJOQSAiEnMKAhGRmFMQiIjEnIJARCTmFAQiIjGnIBARiTkFgYhIzCkIRERiTkEgIhJzKQWBmT1iZmeYmYJDRKSfSbVh/zlwMVBlZjeZ2RER1iQiImmUUhC4+3x3vwSYBqwBnjWzF83sCjPLjbJAERGJVspdPWZWBlwOXAW8BvyUIBiejaQyERFJi5SuUGZmvwWOAP4b+Ly7rw+fmmdmi6MqTkREopfqpSr/090XJnvC3St7sB4REUmzVLuGJprZoLYHZjbYzK6NqCYREUmjVIPgy+6+ve2Bu28DvhxNSSIikk6pBkGWmVnbAzPLBvKiKUlERNIp1WMEfwQeNLM7AAe+AjwdWVUiIpI2qQbBt4GrgWsAA54BfhFVUSIikj4pBYG7txL8uvjn0ZYjIiLplurvCMYDPwYmAQVt0939kIjqEhGRNEn1YPGvCPYGmoFZwG8IflwmIiJ9XKpBUOjuCwBz9/fd/Qbg5OjKEhGRdEn1YPHucAjqKjP7KvAhMCy6skREJF1S3SP4BlAEfB2YDlwKXBZVUSIikj5dBkH447EL3L3O3avd/Qp3P8/dX+5iuQlmtjThVmNm3zCzIWb2rJlVhX8H99inERGRbusyCNy9BZie+MviVLj7O+4+1d2nEuxF7AQeBeYCC9x9PLAgfCwiIhmS6jGC14DHzOwhoL5torv/NsXlTwHedff3zexsYGY4/R5gEcEP1kREJANSDYIhwFb2PlPIgVSD4CLg/vD+8LbrGbj7ejNLetDZzOYAcwDGjBmT4tuIiEh3mbtH+wZmecA6YLK7bzSz7e6eOKT1Nnff73GCyspKX7xY178REekOM1uSyjVjUv1l8a8I9gD24u5/l8LipwGvuvvG8PFGM6sI9wYqgE2p1CAiItFItWvoyYT7BcC5BFv5qfhb9nQLATxOcOrpTeHfx1J8HRERiUCqg849kvjYzO4H5ne1nJkVAZ8lGLm0zU0EQ1pfCXwAzE65WhER6XGp7hF0NB7o8giuu+8EyjpM20pwFpGIiPQCqR4jqGXvYwQb0CmfIiL9QqpdQ6VRFyIiIpmR0lhDZnaumQ1MeDzIzM6JriwREUmXVAed+56772h74O7bge9FU5KIiKRTqkGQbL4DPdAsIiK9SKpBsNjMfmJmh5rZIWZ2M7AkysJERCQ9Ug2CrwGNwDzgQWAXcF1URYmISPqketZQPRouWkSkX0r1rKFnzSxxoLjBZvbH6MoSEZF0SbVraGh4phAA7r4NXbNYRKRfSDUIWs2sfUgJMxtLktFIRUSk70n1FNB/Bv5sZs+Hj08ivGiMiIj0bakeLH7azCoJGv+lBENH74qyMBERSY9UB527CrgeGEUQBMcBL7H3pStFRKQPSvUYwfXAscD77j4LOAbYHFlVIiKSNqkGwW533w1gZvnuvgKYEF1ZIiKSLqkeLK4Of0fwO+BZM9tG6peqFBGRXizVg8XnhndvMLPngIHA05FVJSIiadPtEUTd/fmu5xIRkb4i1WMEIiLSTykIRERiTkEgIhJzCgIRkZhTEIiIxJyCQEQk5hQEIiIxpyAQEYk5BYGISMwpCEREYk5BICIScwoCEZGYUxCIiMScgkBEJOYUBCIiMacgEBGJOQWBiEjMKQhERGJOQSAiEnMKAhGRmIs0CMxskJk9bGYrzGy5mR1vZkPM7Fkzqwr/Do6yBhER2b+o9wh+Cjzt7kcAU4DlwFxggbuPBxaEj0VEJEMiCwIzGwCcBPwSwN0b3X07cDZwTzjbPcA5UdUgIiJdi3KP4BBgM/ArM3vNzH5hZsXAcHdfDxD+HZZsYTObY2aLzWzx5s2bIyxTRCTeogyCHGAa8HN3PwaopxvdQO5+p7tXuntleXl5VDWKiMRelEFQDVS7+yvh44cJgmGjmVUAhH83RViDiIh0IbIgcPcNwFozmxBOOgVYBjwOXBZOuwx4LKoaRESkazkRv/7XgHvNLA9YDVxBED4PmtmVwAfA7IhrEBGR/Yg0CNx9KVCZ5KlTonxfERFJnX5ZLCIScwoCEZGYUxCIiMScgkBEJOYUBCIiMacgEBGJOQWBiEjMKQhERGJOQSAiEnMKAhGRmFMQiIjEnIJARCTmFAQiIjGnIBARiTkFgYhIzCkIRERiTkEgIhJzCgIRkZhTEIiIxJyCQEQk5hQEIiIxpyAQEYk5BYGISMwpCEREYk5BICIScwoCEZGYUxCIiMScgkBEJOYUBCIiMacgEBGJOQWBiEjMKQhERGJOQSAiEnMKAhGRmFMQiIjEnIJARCTmFAQiIjGnIBARiTkFgYhIzOVE+eJmtgaoBVqAZnevNLMhwDxgLLAGuMDdt0VZh4iIdC7SIAjNcvctCY/nAgvc/SYzmxs+/nYa6hD5+FpboakeGncGf5sbO5/XLNnEbsx7IPN3p5ZOXr/HaunktbNywlt2+Dd3z+Pufi7pEekIgo7OBmaG9+8BFhFVELQ06z9XHLW2QvOuPY11Y0LD3bgTmnZCY91+pu0Mlmn7mzhf865Mf7r+zbITgiIxLLp4nJ3bvfmTPs5NYf4DqSGVOnIy2k5FHQQOPGNmDvyXu98JDHf39QDuvt7MhiVb0MzmAHMAxowZc2Dv/sDFUPVHyM6HnPCWnQ85eZBTANl5Habnh9MKgnn2WS5xnmTTk712wv3sPIVSG3do3h02tG2NbmLDnWxaig13087u1ZKVA7nFkFcEuUWQVxzcCgbBgBGQVxJOL9ozX15xcD8nj+Rbyp78M3d3HSV/IsL5o3xtwFvBW6C1BVqboaUp+Nv2eK9bx2nJHjft/bipsZvLt9XQ1MnnSyPLStg7SgiLv3sayg6N9K2jDoIT3H1d2Ng/a2YrUl0wDI07ASorK7v5DQodNRsqpkBLQ7AL37wbWhqhuaHD/QZoqE0yT0O4bAOd/ofvri4DJ0mA7BMySQKn/fW6CrOE5boKJffgs+/V0Ha21XwADXd31qll7dsI5xVBfimUHhROK9r7b/v9tga8eO/GPLcoaORz8j7WP6n0E62tPRBG3QigxFvLft43vzTyjx5pELj7uvDvJjN7FJgBbDSzinBvoALYFFkBR8/umddxD/5BmncHYdHS0OF+h9BobkgeJu33uwilxrr9v3aPhVKSPSPYu+H21m68oCU0wh22novL993i3qvhLupkyzuclpOvvSmJVlYWZOUB8dswiCwIzKwYyHL32vD+3wA/AB4HLgNuCv8+FlUNPcYs6P/LzoX8DNfSrVDazx5OZ/Pge7aUExvuThvwhGm5hWqsRfqgKPcIhgOPWtAw5AD3ufvTZvZX4EEzuxL4AOihzfaY6E2hJCL9QmRB4O6rgSlJpm8FTonqfUVEpHv0y2IRkZhTEIiIxJyCQEQk5hQEIiIxpyAQEYk5BYGISMwpCEREYs68uwNhZYCZbQbeP8DFhwJbupwr/VRX96iu7lFd3dNf6zrY3cu7mqlPBMHHYWaL3b0y03V0pLq6R3V1j+rqnrjXpa4hEZGYUxCIiMRcHILgzkwX0AnV1T2qq3tUV/fEuq5+f4xARET2Lw57BCIish8KAhGRmOs3QWBmp5rZO2a2yszmJnk+38zmhc+/YmZje0ldl5vZZjNbGt6uSkNNd5vZJjN7q5PnzcxuDWt+w8ymRV1TinXNNLMdCevqu2mqa7SZPWdmy83sbTO7Psk8aV9nKdaV9nVmZgVm9hczez2s6/tJ5kn79zHFutL+fUx472wze83MnkzyXLTry937/A3IBt4FDiGWX3sMAAAFa0lEQVS44OjrwKQO81wL3BHevwiY10vquhz4zzSvr5OAacBbnTx/OvAHwIDjgFd6SV0zgScz8P+rApgW3i8FVib5d0z7OkuxrrSvs3AdlIT3c4FXgOM6zJOJ72MqdaX9+5jw3n8P3Jfs3yvq9dVf9ghmAKvcfbW7NwIPAGd3mOds4J7w/sPAKWaRX2A3lbrSzt3/BHy0n1nOBn7jgZeBQWZW0Qvqygh3X+/ur4b3a4HlwMgOs6V9naVYV9qF66AufJgb3jqelZL272OKdWWEmY0CzgB+0ckska6v/hIEI4G1CY+r2fcL0T6PuzcDO4CyXlAXwHlhd8LDZjY64ppSkWrdmXB8uGv/BzObnO43D3fJjyHYmkyU0XW2n7ogA+ss7OZYCmwCnnX3TtdXGr+PqdQFmfk+3gL8I9DayfORrq/+EgTJkrFj0qcyT09L5T2fAMa6+9HAfPakfiZlYl2l4lWCsVOmALcBv0vnm5tZCfAI8A13r+n4dJJF0rLOuqgrI+vM3VvcfSowCphhZkd2mCUj6yuFutL+fTSzM4FN7r5kf7MlmdZj66u/BEE1kJjco4B1nc1jZjnAQKLvhuiyLnff6u4N4cO7gOkR15SKVNZn2rl7Tduuvbs/BeSa2dB0vLeZ5RI0tve6+2+TzJKRddZVXZlcZ+F7bgcWAad2eCoT38cu68rQ9/EE4CwzW0PQfXyymf1Ph3kiXV/9JQj+Cow3s3FmlkdwMOXxDvM8DlwW3j8fWOjhkZdM1tWhH/ksgn7eTHsc+FJ4JsxxwA53X5/poszsoLZ+UTObQfD/d2sa3teAXwLL3f0nncyW9nWWSl2ZWGdmVm5mg8L7hcBngBUdZkv79zGVujLxfXT377j7KHcfS9BGLHT3SzvMFun6yumpF8okd282s68CfyQ4U+dud3/bzH4ALHb3xwm+MP9tZqsIkvSiXlLX183sLKA5rOvyqOsys/sJziYZambVwPcIDpzh7ncATxGcBbMK2AlcEXVNKdZ1PnCNmTUDu4CL0hDmEGyxfRF4M+xfBvgnYExCbZlYZ6nUlYl1VgHcY2bZBMHzoLs/menvY4p1pf372Jl0ri8NMSEiEnP9pWtIREQOkIJARCTmFAQiIjGnIBARiTkFgYhIzCkIJPbM7McWjNJ5jiUZITai91yTzh92ieyPgkAEPkEwRs+ngRcyXItI2ikIJLbM7N/N7A3gWOAl4Crg52b2XTM71MyeNrMlZvaCmR0RLvNrM7sjnLYyHCembaz7X5nZmxaMKT8rnJ5tZv8RTn/DzL6WUMLXzOzV8Lkj0vzxRdr1i18WixwId/+WmT1E8OvcvwcWufsJAGa2APiKu1eZ2SeA24GTw0XHEuw9HAo8Z2aHAdeFr3lU2Kg/Y2aHE/zCeBxwTPhL8yEJJWxx92lmdi3wTYIgEkk7BYHE3THAUuAIYBm0j+b5SeAh2zPke37CMg+6eytQZWarw2VPJBjdE3dfYWbvA4cTjGdzRzh0MO6eOFBY2yBxS4Av9PxHE0mNgkBiycymAr8mGCV0C1AUTLalBFv728PhipPpOC6Lk3yYYMLpnY3j0jbKZQv6LkoG6RiBxJK7Lw0b+pXAJGAh8Dl3n+ruO4D3zGw2tF+PeErC4rPNLMvMDiW4DOk7wJ+AS8L5DycY+O0d4BngK+HQwXToGhLpFRQEEltmVg5sC7t5jnD3ZQlPXwJcaWavA2+z9yVG3wGeJ7hG8VfcfTfBMYRsM3sTmAdcHo5r/wvgA+CN8LUujvpziXSXRh8V6QYz+zXBxcUfznQtIj1FewQiIjGnPQIRkZjTHoGISMwpCEREYk5BICIScwoCEZGYUxCIiMTc/wcNeNll+HtXAgAAAABJRU5ErkJggg==\n",
      "text/plain": [
       "<Figure size 432x288 with 1 Axes>"
>>>>>>> 6407107... proj1
=======
      "image/png": "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\n",
      "text/plain": [
       "<matplotlib.figure.Figure at 0x7f0cb70d5cf8>"
>>>>>>> 6c349b8... proj1 update
      ]
     },
     "metadata": {},
     "output_type": "display_data"
    }
   ],
   "source": [
    "perceptron(train_X_Y, dev_X_Y)"
   ]
  },
  {
   "cell_type": "code",
   "execution_count": 19,
   "metadata": {},
   "outputs": [],
   "source": [
    "def perceptron_avg(train_set, dev_set):\n",
<<<<<<< HEAD
<<<<<<< HEAD
    "    dim, _ = train_set[0][0].shape\n",
    "    theta_0 = np.zeros((dim, 1), dtype=np.float64)\n",
    "    theta_1 = np.zeros((dim, 1), dtype=np.float64)\n",
=======
    "    theta_0 = np.zeros((V+1, 1), dtype=np.float64)\n",
    "    theta_1 = np.zeros((V+1, 1), dtype=np.float64)\n",
>>>>>>> 6407107... proj1
=======
    "    dim, _ = train_set[0][0].shape\n",
    "    theta_0 = np.zeros((dim, 1), dtype=np.float64)\n",
    "    theta_1 = np.zeros((dim, 1), dtype=np.float64)\n",
>>>>>>> 6c349b8... proj1 update
    "    \n",
    "    train_acc = []\n",
    "    dev_acc = []\n",
    "    eta = 1\n",
    "    for epoch in tqdm(range(5)):\n",
    "        print(\"-------------\")\n",
    "        print(\"epoch %d\"%(epoch))\n",
    "        # train\n",
    "        acc = 0\n",
    "        total = 0\n",
    "        eta /= 2\n",
    "        theta_0_hist = []\n",
    "        theta_1_hist = []\n",
    "\n",
    "        shuffle(train_set)\n",
    "        for x, y in tqdm(train_set, leave=False):\n",
    "            y_1 = np.dot(theta_0.T, x)\n",
    "            y_2 = np.dot(theta_1.T, x)\n",
    "            y_hat = 0 if y_1 > y_2 else 1\n",
    "            sign = y_hat-y\n",
    "            if sign == 0: acc += 1\n",
    "            else:\n",
    "                theta_0 = theta_0 + eta*sign*x\n",
    "                theta_1 = theta_1 - eta*sign*x\n",
    "                theta_0_hist.append(theta_0)\n",
    "                theta_1_hist.append(theta_1)\n",
    "            total += 1\n",
    "        percentage = acc/total*100\n",
    "        print('training accuracy %f %%'%(percentage))\n",
    "        train_acc.append(percentage)\n",
    "        \n",
    "        # average all the classification weights\n",
    "        theta_0_avg = np.mean(theta_0_hist, axis=0, dtype=np.float64)\n",
    "        theta_1_avg = np.mean(theta_1_hist, axis=0, dtype=np.float64)\n",
    "\n",
    "        # validation\n",
    "        acc = 0\n",
    "        total = 0\n",
    "        for x, y in tqdm(dev_set, leave=False):\n",
    "            y_1 = np.dot(theta_0_avg.T, x)\n",
    "            y_2 = np.dot(theta_1_avg.T, x)\n",
    "            y_hat = 0 if y_1 > y_2 else 1\n",
    "            sign = y_hat-y\n",
    "            if sign == 0: acc += 1\n",
    "            total += 1\n",
    "        percentage = acc/total*100\n",
    "        print('validation accuracy %f %%'%(percentage))\n",
    "        dev_acc.append(percentage)\n",
<<<<<<< HEAD
<<<<<<< HEAD
=======
>>>>>>> 6c349b8... proj1 update
    "        \n",
    "        theta_0 = theta_0_avg\n",
    "        theta_1 = theta_1_avg\n",
    "        \n",
<<<<<<< HEAD
    "            \n",
    "    plot_acc(train_acc, dev_acc)\n",
    "    return theta_0, theta_1\n",
=======
    "            \n",
    "    plot_acc(train_acc, dev_acc)    \n",
>>>>>>> 6407107... proj1
=======
    "            \n",
    "    plot_acc(train_acc, dev_acc)\n",
    "    return theta_0, theta_1\n",
>>>>>>> 6c349b8... proj1 update
    "    "
   ]
  },
  {
   "cell_type": "code",
   "execution_count": 20,
   "metadata": {},
   "outputs": [
    {
     "data": {
      "application/vnd.jupyter.widget-view+json": {
<<<<<<< HEAD
<<<<<<< HEAD
       "model_id": "63fb663d09d142a9962397b5b5c55605",
       "version_major": 2,
       "version_minor": 0
      },
=======
       "model_id": "008fe709c202445896db09dd50e53f8e",
       "version_major": 2,
       "version_minor": 0
      },
      "text/html": [
       "<p>Failed to display Jupyter Widget of type <code>HBox</code>.</p>\n",
       "<p>\n",
       "  If you're reading this message in the Jupyter Notebook or JupyterLab Notebook, it may mean\n",
       "  that the widgets JavaScript is still loading. If this message persists, it\n",
       "  likely means that the widgets JavaScript library is either not installed or\n",
       "  not enabled. See the <a href=\"https://ipywidgets.readthedocs.io/en/stable/user_install.html\">Jupyter\n",
       "  Widgets Documentation</a> for setup instructions.\n",
       "</p>\n",
       "<p>\n",
       "  If you're reading this message in another frontend (for example, a static\n",
       "  rendering on GitHub or <a href=\"https://nbviewer.jupyter.org/\">NBViewer</a>),\n",
       "  it may mean that your frontend doesn't currently support widgets.\n",
       "</p>\n"
      ],
>>>>>>> 6407107... proj1
=======
       "model_id": "63fb663d09d142a9962397b5b5c55605",
       "version_major": 2,
       "version_minor": 0
      },
>>>>>>> 6c349b8... proj1 update
      "text/plain": [
       "HBox(children=(IntProgress(value=0, max=5), HTML(value='')))"
      ]
     },
     "metadata": {},
     "output_type": "display_data"
    },
    {
     "name": "stdout",
     "output_type": "stream",
     "text": [
      "-------------\n",
      "epoch 0\n"
     ]
    },
    {
     "data": {
      "application/vnd.jupyter.widget-view+json": {
       "model_id": "",
       "version_major": 2,
       "version_minor": 0
      },
<<<<<<< HEAD
<<<<<<< HEAD
=======
      "text/html": [
       "<p>Failed to display Jupyter Widget of type <code>HBox</code>.</p>\n",
       "<p>\n",
       "  If you're reading this message in the Jupyter Notebook or JupyterLab Notebook, it may mean\n",
       "  that the widgets JavaScript is still loading. If this message persists, it\n",
       "  likely means that the widgets JavaScript library is either not installed or\n",
       "  not enabled. See the <a href=\"https://ipywidgets.readthedocs.io/en/stable/user_install.html\">Jupyter\n",
       "  Widgets Documentation</a> for setup instructions.\n",
       "</p>\n",
       "<p>\n",
       "  If you're reading this message in another frontend (for example, a static\n",
       "  rendering on GitHub or <a href=\"https://nbviewer.jupyter.org/\">NBViewer</a>),\n",
       "  it may mean that your frontend doesn't currently support widgets.\n",
       "</p>\n"
      ],
>>>>>>> 6407107... proj1
=======
>>>>>>> 6c349b8... proj1 update
      "text/plain": [
       "HBox(children=(IntProgress(value=0, max=30000), HTML(value='')))"
      ]
     },
     "metadata": {},
     "output_type": "display_data"
    },
    {
     "name": "stdout",
     "output_type": "stream",
     "text": [
<<<<<<< HEAD
<<<<<<< HEAD
      "training accuracy 77.056667 %\n"
=======
      "training accuracy 77.023333 %\n"
>>>>>>> 6407107... proj1
=======
      "training accuracy 77.056667 %\n"
>>>>>>> 6c349b8... proj1 update
     ]
    },
    {
     "data": {
      "application/vnd.jupyter.widget-view+json": {
       "model_id": "",
       "version_major": 2,
       "version_minor": 0
      },
<<<<<<< HEAD
<<<<<<< HEAD
=======
      "text/html": [
       "<p>Failed to display Jupyter Widget of type <code>HBox</code>.</p>\n",
       "<p>\n",
       "  If you're reading this message in the Jupyter Notebook or JupyterLab Notebook, it may mean\n",
       "  that the widgets JavaScript is still loading. If this message persists, it\n",
       "  likely means that the widgets JavaScript library is either not installed or\n",
       "  not enabled. See the <a href=\"https://ipywidgets.readthedocs.io/en/stable/user_install.html\">Jupyter\n",
       "  Widgets Documentation</a> for setup instructions.\n",
       "</p>\n",
       "<p>\n",
       "  If you're reading this message in another frontend (for example, a static\n",
       "  rendering on GitHub or <a href=\"https://nbviewer.jupyter.org/\">NBViewer</a>),\n",
       "  it may mean that your frontend doesn't currently support widgets.\n",
       "</p>\n"
      ],
>>>>>>> 6407107... proj1
=======
>>>>>>> 6c349b8... proj1 update
      "text/plain": [
       "HBox(children=(IntProgress(value=0, max=10000), HTML(value='')))"
      ]
     },
     "metadata": {},
     "output_type": "display_data"
    },
    {
     "name": "stdout",
     "output_type": "stream",
     "text": [
<<<<<<< HEAD
<<<<<<< HEAD
      "validation accuracy 49.910000 %\n",
=======
      "validation accuracy 49.650000 %\n",
>>>>>>> 6407107... proj1
=======
      "validation accuracy 49.910000 %\n",
>>>>>>> 6c349b8... proj1 update
      "-------------\n",
      "epoch 1\n"
     ]
    },
    {
     "data": {
      "application/vnd.jupyter.widget-view+json": {
       "model_id": "",
       "version_major": 2,
       "version_minor": 0
      },
<<<<<<< HEAD
<<<<<<< HEAD
=======
      "text/html": [
       "<p>Failed to display Jupyter Widget of type <code>HBox</code>.</p>\n",
       "<p>\n",
       "  If you're reading this message in the Jupyter Notebook or JupyterLab Notebook, it may mean\n",
       "  that the widgets JavaScript is still loading. If this message persists, it\n",
       "  likely means that the widgets JavaScript library is either not installed or\n",
       "  not enabled. See the <a href=\"https://ipywidgets.readthedocs.io/en/stable/user_install.html\">Jupyter\n",
       "  Widgets Documentation</a> for setup instructions.\n",
       "</p>\n",
       "<p>\n",
       "  If you're reading this message in another frontend (for example, a static\n",
       "  rendering on GitHub or <a href=\"https://nbviewer.jupyter.org/\">NBViewer</a>),\n",
       "  it may mean that your frontend doesn't currently support widgets.\n",
       "</p>\n"
      ],
>>>>>>> 6407107... proj1
=======
>>>>>>> 6c349b8... proj1 update
      "text/plain": [
       "HBox(children=(IntProgress(value=0, max=30000), HTML(value='')))"
      ]
     },
     "metadata": {},
     "output_type": "display_data"
    },
    {
     "name": "stdout",
     "output_type": "stream",
     "text": [
<<<<<<< HEAD
<<<<<<< HEAD
      "training accuracy 83.250000 %\n"
=======
      "training accuracy 85.356667 %\n"
>>>>>>> 6407107... proj1
=======
      "training accuracy 83.250000 %\n"
>>>>>>> 6c349b8... proj1 update
     ]
    },
    {
     "data": {
      "application/vnd.jupyter.widget-view+json": {
       "model_id": "",
       "version_major": 2,
       "version_minor": 0
      },
<<<<<<< HEAD
<<<<<<< HEAD
=======
      "text/html": [
       "<p>Failed to display Jupyter Widget of type <code>HBox</code>.</p>\n",
       "<p>\n",
       "  If you're reading this message in the Jupyter Notebook or JupyterLab Notebook, it may mean\n",
       "  that the widgets JavaScript is still loading. If this message persists, it\n",
       "  likely means that the widgets JavaScript library is either not installed or\n",
       "  not enabled. See the <a href=\"https://ipywidgets.readthedocs.io/en/stable/user_install.html\">Jupyter\n",
       "  Widgets Documentation</a> for setup instructions.\n",
       "</p>\n",
       "<p>\n",
       "  If you're reading this message in another frontend (for example, a static\n",
       "  rendering on GitHub or <a href=\"https://nbviewer.jupyter.org/\">NBViewer</a>),\n",
       "  it may mean that your frontend doesn't currently support widgets.\n",
       "</p>\n"
      ],
>>>>>>> 6407107... proj1
=======
>>>>>>> 6c349b8... proj1 update
      "text/plain": [
       "HBox(children=(IntProgress(value=0, max=10000), HTML(value='')))"
      ]
     },
     "metadata": {},
     "output_type": "display_data"
    },
    {
     "name": "stdout",
     "output_type": "stream",
     "text": [
<<<<<<< HEAD
<<<<<<< HEAD
      "validation accuracy 49.880000 %\n",
=======
      "validation accuracy 50.240000 %\n",
>>>>>>> 6407107... proj1
=======
      "validation accuracy 49.880000 %\n",
>>>>>>> 6c349b8... proj1 update
      "-------------\n",
      "epoch 2\n"
     ]
    },
    {
     "data": {
      "application/vnd.jupyter.widget-view+json": {
       "model_id": "",
       "version_major": 2,
       "version_minor": 0
      },
<<<<<<< HEAD
<<<<<<< HEAD
=======
      "text/html": [
       "<p>Failed to display Jupyter Widget of type <code>HBox</code>.</p>\n",
       "<p>\n",
       "  If you're reading this message in the Jupyter Notebook or JupyterLab Notebook, it may mean\n",
       "  that the widgets JavaScript is still loading. If this message persists, it\n",
       "  likely means that the widgets JavaScript library is either not installed or\n",
       "  not enabled. See the <a href=\"https://ipywidgets.readthedocs.io/en/stable/user_install.html\">Jupyter\n",
       "  Widgets Documentation</a> for setup instructions.\n",
       "</p>\n",
       "<p>\n",
       "  If you're reading this message in another frontend (for example, a static\n",
       "  rendering on GitHub or <a href=\"https://nbviewer.jupyter.org/\">NBViewer</a>),\n",
       "  it may mean that your frontend doesn't currently support widgets.\n",
       "</p>\n"
      ],
>>>>>>> 6407107... proj1
=======
>>>>>>> 6c349b8... proj1 update
      "text/plain": [
       "HBox(children=(IntProgress(value=0, max=30000), HTML(value='')))"
      ]
     },
     "metadata": {},
     "output_type": "display_data"
    },
    {
     "name": "stdout",
     "output_type": "stream",
     "text": [
<<<<<<< HEAD
<<<<<<< HEAD
      "training accuracy 86.603333 %\n"
=======
      "training accuracy 87.916667 %\n"
>>>>>>> 6407107... proj1
=======
      "training accuracy 86.603333 %\n"
>>>>>>> 6c349b8... proj1 update
     ]
    },
    {
     "data": {
      "application/vnd.jupyter.widget-view+json": {
       "model_id": "",
       "version_major": 2,
       "version_minor": 0
      },
<<<<<<< HEAD
<<<<<<< HEAD
=======
      "text/html": [
       "<p>Failed to display Jupyter Widget of type <code>HBox</code>.</p>\n",
       "<p>\n",
       "  If you're reading this message in the Jupyter Notebook or JupyterLab Notebook, it may mean\n",
       "  that the widgets JavaScript is still loading. If this message persists, it\n",
       "  likely means that the widgets JavaScript library is either not installed or\n",
       "  not enabled. See the <a href=\"https://ipywidgets.readthedocs.io/en/stable/user_install.html\">Jupyter\n",
       "  Widgets Documentation</a> for setup instructions.\n",
       "</p>\n",
       "<p>\n",
       "  If you're reading this message in another frontend (for example, a static\n",
       "  rendering on GitHub or <a href=\"https://nbviewer.jupyter.org/\">NBViewer</a>),\n",
       "  it may mean that your frontend doesn't currently support widgets.\n",
       "</p>\n"
      ],
>>>>>>> 6407107... proj1
=======
>>>>>>> 6c349b8... proj1 update
      "text/plain": [
       "HBox(children=(IntProgress(value=0, max=10000), HTML(value='')))"
      ]
     },
     "metadata": {},
     "output_type": "display_data"
    },
    {
     "name": "stdout",
     "output_type": "stream",
     "text": [
<<<<<<< HEAD
<<<<<<< HEAD
      "validation accuracy 50.140000 %\n",
=======
      "validation accuracy 50.090000 %\n",
>>>>>>> 6407107... proj1
=======
      "validation accuracy 50.140000 %\n",
>>>>>>> 6c349b8... proj1 update
      "-------------\n",
      "epoch 3\n"
     ]
    },
    {
     "data": {
      "application/vnd.jupyter.widget-view+json": {
       "model_id": "",
       "version_major": 2,
       "version_minor": 0
      },
<<<<<<< HEAD
<<<<<<< HEAD
=======
      "text/html": [
       "<p>Failed to display Jupyter Widget of type <code>HBox</code>.</p>\n",
       "<p>\n",
       "  If you're reading this message in the Jupyter Notebook or JupyterLab Notebook, it may mean\n",
       "  that the widgets JavaScript is still loading. If this message persists, it\n",
       "  likely means that the widgets JavaScript library is either not installed or\n",
       "  not enabled. See the <a href=\"https://ipywidgets.readthedocs.io/en/stable/user_install.html\">Jupyter\n",
       "  Widgets Documentation</a> for setup instructions.\n",
       "</p>\n",
       "<p>\n",
       "  If you're reading this message in another frontend (for example, a static\n",
       "  rendering on GitHub or <a href=\"https://nbviewer.jupyter.org/\">NBViewer</a>),\n",
       "  it may mean that your frontend doesn't currently support widgets.\n",
       "</p>\n"
      ],
>>>>>>> 6407107... proj1
=======
>>>>>>> 6c349b8... proj1 update
      "text/plain": [
       "HBox(children=(IntProgress(value=0, max=30000), HTML(value='')))"
      ]
     },
     "metadata": {},
     "output_type": "display_data"
    },
    {
     "name": "stdout",
     "output_type": "stream",
     "text": [
<<<<<<< HEAD
<<<<<<< HEAD
      "training accuracy 88.233333 %\n"
=======
      "training accuracy 89.603333 %\n"
>>>>>>> 6407107... proj1
=======
      "training accuracy 88.233333 %\n"
>>>>>>> 6c349b8... proj1 update
     ]
    },
    {
     "data": {
      "application/vnd.jupyter.widget-view+json": {
       "model_id": "",
       "version_major": 2,
       "version_minor": 0
      },
<<<<<<< HEAD
<<<<<<< HEAD
=======
      "text/html": [
       "<p>Failed to display Jupyter Widget of type <code>HBox</code>.</p>\n",
       "<p>\n",
       "  If you're reading this message in the Jupyter Notebook or JupyterLab Notebook, it may mean\n",
       "  that the widgets JavaScript is still loading. If this message persists, it\n",
       "  likely means that the widgets JavaScript library is either not installed or\n",
       "  not enabled. See the <a href=\"https://ipywidgets.readthedocs.io/en/stable/user_install.html\">Jupyter\n",
       "  Widgets Documentation</a> for setup instructions.\n",
       "</p>\n",
       "<p>\n",
       "  If you're reading this message in another frontend (for example, a static\n",
       "  rendering on GitHub or <a href=\"https://nbviewer.jupyter.org/\">NBViewer</a>),\n",
       "  it may mean that your frontend doesn't currently support widgets.\n",
       "</p>\n"
      ],
>>>>>>> 6407107... proj1
=======
>>>>>>> 6c349b8... proj1 update
      "text/plain": [
       "HBox(children=(IntProgress(value=0, max=10000), HTML(value='')))"
      ]
     },
     "metadata": {},
     "output_type": "display_data"
    },
    {
     "name": "stdout",
     "output_type": "stream",
     "text": [
<<<<<<< HEAD
<<<<<<< HEAD
      "validation accuracy 50.010000 %\n",
=======
      "validation accuracy 50.300000 %\n",
>>>>>>> 6407107... proj1
=======
      "validation accuracy 50.010000 %\n",
>>>>>>> 6c349b8... proj1 update
      "-------------\n",
      "epoch 4\n"
     ]
    },
    {
     "data": {
      "application/vnd.jupyter.widget-view+json": {
       "model_id": "",
       "version_major": 2,
       "version_minor": 0
      },
<<<<<<< HEAD
<<<<<<< HEAD
=======
      "text/html": [
       "<p>Failed to display Jupyter Widget of type <code>HBox</code>.</p>\n",
       "<p>\n",
       "  If you're reading this message in the Jupyter Notebook or JupyterLab Notebook, it may mean\n",
       "  that the widgets JavaScript is still loading. If this message persists, it\n",
       "  likely means that the widgets JavaScript library is either not installed or\n",
       "  not enabled. See the <a href=\"https://ipywidgets.readthedocs.io/en/stable/user_install.html\">Jupyter\n",
       "  Widgets Documentation</a> for setup instructions.\n",
       "</p>\n",
       "<p>\n",
       "  If you're reading this message in another frontend (for example, a static\n",
       "  rendering on GitHub or <a href=\"https://nbviewer.jupyter.org/\">NBViewer</a>),\n",
       "  it may mean that your frontend doesn't currently support widgets.\n",
       "</p>\n"
      ],
>>>>>>> 6407107... proj1
=======
>>>>>>> 6c349b8... proj1 update
      "text/plain": [
       "HBox(children=(IntProgress(value=0, max=30000), HTML(value='')))"
      ]
     },
     "metadata": {},
     "output_type": "display_data"
    },
    {
     "name": "stdout",
     "output_type": "stream",
     "text": [
<<<<<<< HEAD
<<<<<<< HEAD
      "training accuracy 89.303333 %\n"
=======
      "training accuracy 90.310000 %\n"
>>>>>>> 6407107... proj1
=======
      "training accuracy 89.303333 %\n"
>>>>>>> 6c349b8... proj1 update
     ]
    },
    {
     "data": {
      "application/vnd.jupyter.widget-view+json": {
       "model_id": "",
       "version_major": 2,
       "version_minor": 0
      },
<<<<<<< HEAD
<<<<<<< HEAD
=======
      "text/html": [
       "<p>Failed to display Jupyter Widget of type <code>HBox</code>.</p>\n",
       "<p>\n",
       "  If you're reading this message in the Jupyter Notebook or JupyterLab Notebook, it may mean\n",
       "  that the widgets JavaScript is still loading. If this message persists, it\n",
       "  likely means that the widgets JavaScript library is either not installed or\n",
       "  not enabled. See the <a href=\"https://ipywidgets.readthedocs.io/en/stable/user_install.html\">Jupyter\n",
       "  Widgets Documentation</a> for setup instructions.\n",
       "</p>\n",
       "<p>\n",
       "  If you're reading this message in another frontend (for example, a static\n",
       "  rendering on GitHub or <a href=\"https://nbviewer.jupyter.org/\">NBViewer</a>),\n",
       "  it may mean that your frontend doesn't currently support widgets.\n",
       "</p>\n"
      ],
>>>>>>> 6407107... proj1
=======
>>>>>>> 6c349b8... proj1 update
      "text/plain": [
       "HBox(children=(IntProgress(value=0, max=10000), HTML(value='')))"
      ]
     },
     "metadata": {},
     "output_type": "display_data"
    },
    {
     "name": "stdout",
     "output_type": "stream",
     "text": [
<<<<<<< HEAD
<<<<<<< HEAD
      "validation accuracy 50.100000 %\n",
=======
      "validation accuracy 50.050000 %\n",
>>>>>>> 6407107... proj1
=======
      "validation accuracy 50.100000 %\n",
>>>>>>> 6c349b8... proj1 update
      "\n"
     ]
    },
    {
     "data": {
<<<<<<< HEAD
<<<<<<< HEAD
      "image/png": "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\n",
      "text/plain": [
       "<matplotlib.figure.Figure at 0x7f0cb03e2ac8>"
=======
      "image/png": "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\n",
      "text/plain": [
       "<Figure size 432x288 with 1 Axes>"
>>>>>>> 6407107... proj1
=======
      "image/png": "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\n",
      "text/plain": [
       "<matplotlib.figure.Figure at 0x7f0cb03e2ac8>"
>>>>>>> 6c349b8... proj1 update
      ]
     },
     "metadata": {},
     "output_type": "display_data"
    }
   ],
   "source": [
<<<<<<< HEAD
<<<<<<< HEAD
    "theta_0, theta_1 = perceptron_avg(train_X_Y, dev_X_Y)"
=======
    "perceptron_avg(train_X_Y, dev_X_Y)"
>>>>>>> 6407107... proj1
=======
    "theta_0, theta_1 = perceptron_avg(train_X_Y, dev_X_Y)"
>>>>>>> 6c349b8... proj1 update
   ]
  },
  {
   "cell_type": "code",
   "execution_count": 21,
   "metadata": {},
<<<<<<< HEAD
<<<<<<< HEAD
=======
>>>>>>> 6c349b8... proj1 update
   "outputs": [
    {
     "name": "stdout",
     "output_type": "stream",
     "text": [
      "10000 10000\n"
     ]
    },
    {
     "data": {
      "application/vnd.jupyter.widget-view+json": {
       "model_id": "",
       "version_major": 2,
       "version_minor": 0
      },
      "text/plain": [
       "HBox(children=(IntProgress(value=0, max=10000), HTML(value='')))"
      ]
     },
     "metadata": {},
     "output_type": "display_data"
    },
    {
     "name": "stdout",
     "output_type": "stream",
     "text": [
      "\r"
     ]
    }
   ],
   "source": [
    "test_feature = loadData('tst.data')\n",
    "test_X_Y = loadfxy([\"0\"]*len(test_feature), test_feature)\n",
    "test_pred = []\n",
    "for x, _ in tqdm(test_X_Y, leave=False):\n",
    "    y_1 = np.dot(theta_0.T, x)\n",
    "    y_2 = np.dot(theta_1.T, x)\n",
    "    y_hat = 0 if y_1 > y_2 else 1\n",
    "    test_pred.append(str(y_hat))"
   ]
  },
  {
   "cell_type": "code",
   "execution_count": 22,
   "metadata": {},
   "outputs": [],
   "source": [
    "with open('jw7jb-averaged-perceptron-test.pred', 'w') as f:\n",
    "    f.write('\\n'.join(test_pred))"
   ]
  },
  {
   "cell_type": "code",
   "execution_count": 23,
   "metadata": {},
<<<<<<< HEAD
=======
>>>>>>> 6407107... proj1
=======
>>>>>>> 6c349b8... proj1 update
   "outputs": [],
   "source": [
    "from sklearn.feature_extraction.text import CountVectorizer\n",
    "from sklearn.linear_model import LogisticRegression as LR\n",
    "import sklearn"
   ]
  },
  {
   "cell_type": "code",
<<<<<<< HEAD
<<<<<<< HEAD
   "execution_count": 24,
=======
   "execution_count": 22,
>>>>>>> 6407107... proj1
=======
   "execution_count": 24,
>>>>>>> 6c349b8... proj1 update
   "metadata": {},
   "outputs": [],
   "source": [
    "trn_texts = open(\"trn.data\").read().strip().split(\"\\n\")\n",
    "dev_texts = open(\"dev.data\").read().strip().split(\"\\n\")"
   ]
  },
  {
   "cell_type": "code",
<<<<<<< HEAD
<<<<<<< HEAD
   "execution_count": 25,
   "metadata": {},
   "outputs": [],
   "source": [
    "vectorizer = CountVectorizer()"
   ]
  },
  {
   "cell_type": "code",
   "execution_count": 26,
   "metadata": {},
   "outputs": [],
   "source": [
    "trn_data = vectorizer.fit_transform(trn_texts)\n",
    "dev_data = vectorizer.transform(dev_texts)"
   ]
  },
  {
   "cell_type": "code",
   "execution_count": 27,
   "metadata": {},
   "outputs": [
    {
     "name": "stdout",
     "output_type": "stream",
     "text": [
      "(30000, 47963) (10000, 47963)\n"
     ]
    }
   ],
   "source": [
    "print(trn_data.shape, dev_data.shape)"
   ]
  },
  {
   "cell_type": "code",
   "execution_count": 29,
   "metadata": {},
   "outputs": [
    {
     "name": "stdout",
     "output_type": "stream",
     "text": [
      "Training accuracy = 0.9782333333333333\n",
      "Dev accuracy = 0.8801\n"
     ]
    }
   ],
   "source": [
    "classifier = LR()\n",
    "classifier.fit(trn_data, train_labels)\n",
    "# Measure the performance on training and dev data\n",
    "print(\"Training accuracy =\", classifier.score(trn_data, train_labels))\n",
    "print(\"Dev accuracy =\", classifier.score(dev_data, dev_labels))"
   ]
  },
  {
   "cell_type": "code",
   "execution_count": 30,
   "metadata": {},
   "outputs": [],
   "source": [
    "vectorizer = CountVectorizer(ngram_range=(1,2))"
=======
   "execution_count": 23,
   "metadata": {},
   "outputs": [],
   "source": [
    "trn_labels = [y for _,y in train_X_Y]\n",
    "dev_labels = [y for _,y in dev_X_Y]"
>>>>>>> 6407107... proj1
=======
   "execution_count": 25,
   "metadata": {},
   "outputs": [],
   "source": [
    "vectorizer = CountVectorizer()"
>>>>>>> 6c349b8... proj1 update
   ]
  },
  {
   "cell_type": "code",
<<<<<<< HEAD
<<<<<<< HEAD
   "execution_count": 31,
   "metadata": {},
   "outputs": [],
   "source": [
=======
   "execution_count": 25,
   "metadata": {},
   "outputs": [],
   "source": [
    "choice = 5\n",
    "\n",
    "if choice == 1:\n",
    "    # \"Preprocessing without any feature selection\"\n",
    "    vectorizer = CountVectorizer(lowercase=False)\n",
    "    # vocab size 77166\n",
    "elif choice == 2:\n",
    "    # \"Lowercasing all the tokens\"\n",
    "    vectorizer = CountVectorizer(lowercase=True)\n",
    "    # vocab size 60610\n",
    "elif choice == 3:\n",
    "    # \"Lowercasing and filtering out low-frequency words\"\n",
    "    vectorizer = CountVectorizer(lowercase=True, min_df=2)\n",
    "    # vocab size 31218\n",
    "elif choice == 4:\n",
    "    # \"Lowercasing and filtering out low-frequency words, uni- and bi-gram\"\n",
    "    vectorizer = CountVectorizer(lowercase=True, min_df=2, ngram_range=(1,2))\n",
    "    # vocab size 323167\n",
    "elif choice == 5:\n",
    "    # \"Uni- and bi-gram\"\n",
    "    vectorizer = CountVectorizer(ngram_range=(1,2))\n",
    "    # vocab 1048596\n",
    "elif choice == 6:\n",
    "    # \"Lowercasing and filtering out high-frequency words\"\n",
    "    vectorizer = CountVectorizer(lowercase=True, max_df=0.5)\n",
    "    # vocab size 60610\n",
    "    \n",
>>>>>>> 6407107... proj1
=======
   "execution_count": 26,
   "metadata": {},
   "outputs": [],
   "source": [
>>>>>>> 6c349b8... proj1 update
    "trn_data = vectorizer.fit_transform(trn_texts)\n",
    "dev_data = vectorizer.transform(dev_texts)"
   ]
  },
  {
   "cell_type": "code",
<<<<<<< HEAD
<<<<<<< HEAD
   "execution_count": 32,
=======
   "execution_count": 26,
>>>>>>> 6407107... proj1
=======
   "execution_count": 27,
   "metadata": {},
   "outputs": [
    {
     "name": "stdout",
     "output_type": "stream",
     "text": [
      "(30000, 47963) (10000, 47963)\n"
     ]
    }
   ],
   "source": [
    "print(trn_data.shape, dev_data.shape)"
   ]
  },
  {
   "cell_type": "code",
   "execution_count": 29,
   "metadata": {},
   "outputs": [
    {
     "name": "stdout",
     "output_type": "stream",
     "text": [
      "Training accuracy = 0.9782333333333333\n",
      "Dev accuracy = 0.8801\n"
     ]
    }
   ],
   "source": [
    "classifier = LR()\n",
    "classifier.fit(trn_data, train_labels)\n",
    "# Measure the performance on training and dev data\n",
    "print(\"Training accuracy =\", classifier.score(trn_data, train_labels))\n",
    "print(\"Dev accuracy =\", classifier.score(dev_data, dev_labels))"
   ]
  },
  {
   "cell_type": "code",
   "execution_count": 30,
   "metadata": {},
   "outputs": [],
   "source": [
    "vectorizer = CountVectorizer(ngram_range=(1,2))"
   ]
  },
  {
   "cell_type": "code",
   "execution_count": 31,
   "metadata": {},
   "outputs": [],
   "source": [
    "trn_data = vectorizer.fit_transform(trn_texts)\n",
    "dev_data = vectorizer.transform(dev_texts)"
   ]
  },
  {
   "cell_type": "code",
   "execution_count": 32,
>>>>>>> 6c349b8... proj1 update
   "metadata": {},
   "outputs": [
    {
     "name": "stdout",
     "output_type": "stream",
     "text": [
      "(30000, 776704) (10000, 776704)\n"
     ]
    }
   ],
   "source": [
    "print(trn_data.shape, dev_data.shape)"
   ]
  },
  {
   "cell_type": "code",
<<<<<<< HEAD
<<<<<<< HEAD
=======
>>>>>>> 6c349b8... proj1 update
   "execution_count": 33,
   "metadata": {},
   "outputs": [
    {
     "name": "stdout",
     "output_type": "stream",
     "text": [
      "Training accuracy = 0.9999333333333333\n",
      "Dev accuracy = 0.9044\n"
     ]
    }
   ],
   "source": [
    "classifier = LR()\n",
    "classifier.fit(trn_data, train_labels)\n",
    "# Measure the performance on training and dev data\n",
    "print(\"Training accuracy =\", classifier.score(trn_data, train_labels))\n",
    "print(\"Dev accuracy =\", classifier.score(dev_data, dev_labels))"
   ]
  },
  {
   "cell_type": "code",
   "execution_count": 34,
   "metadata": {},
   "outputs": [
    {
     "name": "stdout",
     "output_type": "stream",
     "text": [
      "With regularization parameter λ = 100.000000\n",
      "Training accuracy = 0.9441\n",
      "Dev accuracy = 0.8953\n",
      "With regularization parameter λ = 10.000000\n",
      "Training accuracy = 0.9936\n",
      "Dev accuracy = 0.9047\n",
      "With regularization parameter λ = 1.000000\n",
      "Training accuracy = 0.9999333333333333\n",
      "Dev accuracy = 0.9044\n",
      "With regularization parameter λ = 0.100000\n",
      "Training accuracy = 1.0\n",
      "Dev accuracy = 0.9026\n",
      "With regularization parameter λ = 0.010000\n",
      "Training accuracy = 1.0\n",
      "Dev accuracy = 0.9013\n",
      "With regularization parameter λ = 0.001000\n",
      "Training accuracy = 1.0\n",
      "Dev accuracy = 0.8954\n",
      "With regularization parameter λ = 0.000100\n",
      "Training accuracy = 1.0\n",
      "Dev accuracy = 0.892\n"
     ]
    }
   ],
   "source": [
    "c = 1/100\n",
    "for i in range(7):\n",
    "    classifier = LR(C=c)\n",
    "    classifier.fit(trn_data, train_labels)\n",
    "    print(\"With regularization parameter λ = %f\"%(1/c))\n",
    "    print(\"Training accuracy =\", classifier.score(trn_data, train_labels))\n",
    "    print(\"Dev accuracy =\", classifier.score(dev_data, dev_labels))\n",
    "    c *= 10"
   ]
  },
  {
   "cell_type": "code",
   "execution_count": 35,
   "metadata": {},
   "outputs": [
    {
     "name": "stdout",
     "output_type": "stream",
     "text": [
      "With regularization parameter λ = 100.000000\n",
      "Training accuracy = 0.8334333333333334\n",
      "Dev accuracy = 0.8248\n",
      "With regularization parameter λ = 10.000000\n",
      "Training accuracy = 0.9114333333333333\n",
      "Dev accuracy = 0.892\n",
      "With regularization parameter λ = 1.000000\n",
      "Training accuracy = 0.9917666666666667\n",
      "Dev accuracy = 0.8973\n",
      "With regularization parameter λ = 0.100000\n",
      "Training accuracy = 1.0\n",
      "Dev accuracy = 0.8929\n",
      "With regularization parameter λ = 0.010000\n",
      "Training accuracy = 1.0\n",
      "Dev accuracy = 0.8916\n",
      "With regularization parameter λ = 0.001000\n",
      "Training accuracy = 1.0\n",
      "Dev accuracy = 0.8974\n",
      "With regularization parameter λ = 0.000100\n",
      "Training accuracy = 1.0\n",
      "Dev accuracy = 0.8887\n"
     ]
    }
   ],
   "source": [
    "c = 1/100\n",
    "for i in range(7):\n",
    "    classifier = LR(C=c, penalty='l1')\n",
    "    classifier.fit(trn_data, train_labels)\n",
    "    print(\"With regularization parameter λ = %f\"%(1/c))\n",
    "    print(\"Training accuracy =\", classifier.score(trn_data, train_labels))\n",
    "    print(\"Dev accuracy =\", classifier.score(dev_data, dev_labels))\n",
    "    c *= 10"
   ]
  },
  {
   "cell_type": "code",
   "execution_count": 60,
<<<<<<< HEAD
   "metadata": {},
   "outputs": [],
   "source": [
    "from nltk.corpus import stopwords\n",
    "import re"
=======
   "execution_count": null,
   "metadata": {},
   "outputs": [],
   "source": [
    "classifier = LR(C=10000, solver=\"saga\", penalty='l1', max_iter=10)\n",
    "classifier.fit(trn_data, trn_labels)"
>>>>>>> 6407107... proj1
   ]
  },
  {
   "cell_type": "code",
<<<<<<< HEAD
   "execution_count": 112,
   "metadata": {},
   "outputs": [],
   "source": [
    "# \"Lowercasing and filtering out low-frequency words, uni- and bi-gram\"\n",
    "def no_number_preprocessor(tokens):\n",
    "    r = re.sub('(\\d)+', 'NUM', tokens.lower())\n",
    "    # This alternative just removes numbers:\n",
    "    # r = re.sub('(\\d)+', '', tokens.lower())\n",
    "    return r\n",
    "\n",
    "vectorizer = CountVectorizer(lowercase=True, tokenizer=word_tokenize, preprocessor=no_number_preprocessor, stop_words=stopwords.words('english')[0:10], min_df=1, ngram_range=(1,2))\n",
    "\n",
    "trn_data = vectorizer.fit_transform(trn_texts)\n",
    "dev_data = vectorizer.transform(dev_texts)"
   ]
  },
  {
   "cell_type": "code",
   "execution_count": 113,
   "metadata": {},
   "outputs": [
    {
     "name": "stdout",
     "output_type": "stream",
     "text": [
      "(30000, 693246) (10000, 693246)\n"
     ]
    }
   ],
   "source": [
    "print(trn_data.shape, dev_data.shape)"
=======
   "metadata": {},
   "outputs": [],
   "source": [
    "from nltk.corpus import stopwords\n",
    "import re"
>>>>>>> 6c349b8... proj1 update
   ]
  },
  {
   "cell_type": "code",
<<<<<<< HEAD
   "execution_count": 114,
   "metadata": {},
   "outputs": [
    {
     "name": "stdout",
     "output_type": "stream",
     "text": [
      "Training accuracy = 0.9943666666666666\n",
      "Dev accuracy = 0.9052\n"
     ]
    }
   ],
   "source": [
    "classifier = LR(C=0.1, penalty='l2')\n",
    "classifier.fit(trn_data, train_labels)\n",
    "# Measure the performance on training and dev data\n",
    "print(\"Training accuracy =\", classifier.score(trn_data, train_labels))\n",
=======
   "execution_count": null,
=======
   "execution_count": 112,
>>>>>>> 6c349b8... proj1 update
   "metadata": {},
   "outputs": [],
   "source": [
    "# \"Lowercasing and filtering out low-frequency words, uni- and bi-gram\"\n",
    "def no_number_preprocessor(tokens):\n",
    "    r = re.sub('(\\d)+', 'NUM', tokens.lower())\n",
    "    # This alternative just removes numbers:\n",
    "    # r = re.sub('(\\d)+', '', tokens.lower())\n",
    "    return r\n",
    "\n",
    "vectorizer = CountVectorizer(lowercase=True, tokenizer=word_tokenize, preprocessor=no_number_preprocessor, stop_words=stopwords.words('english')[0:10], min_df=1, ngram_range=(1,2))\n",
    "\n",
    "trn_data = vectorizer.fit_transform(trn_texts)\n",
    "dev_data = vectorizer.transform(dev_texts)"
   ]
  },
  {
   "cell_type": "code",
   "execution_count": 113,
   "metadata": {},
   "outputs": [
    {
     "name": "stdout",
     "output_type": "stream",
     "text": [
      "(30000, 693246) (10000, 693246)\n"
     ]
    }
   ],
   "source": [
    "print(trn_data.shape, dev_data.shape)"
   ]
  },
  {
   "cell_type": "code",
   "execution_count": 114,
   "metadata": {},
   "outputs": [
    {
     "name": "stdout",
     "output_type": "stream",
     "text": [
      "Training accuracy = 0.9943666666666666\n",
      "Dev accuracy = 0.9052\n"
     ]
    }
   ],
   "source": [
    "classifier = LR(C=0.1, penalty='l2')\n",
    "classifier.fit(trn_data, train_labels)\n",
    "# Measure the performance on training and dev data\n",
<<<<<<< HEAD
    "print(\"Training accuracy =\", classifier.score(trn_data, trn_labels))\n",
>>>>>>> 6407107... proj1
=======
    "print(\"Training accuracy =\", classifier.score(trn_data, train_labels))\n",
>>>>>>> 6c349b8... proj1 update
    "print(\"Dev accuracy =\", classifier.score(dev_data, dev_labels))"
   ]
  },
  {
   "cell_type": "code",
<<<<<<< HEAD
<<<<<<< HEAD
=======
>>>>>>> 6c349b8... proj1 update
   "execution_count": 115,
   "metadata": {},
   "outputs": [],
   "source": [
    "tst_texts = open(\"tst.data\").read().strip().split(\"\\n\")"
   ]
  },
  {
   "cell_type": "code",
   "execution_count": 118,
   "metadata": {},
   "outputs": [],
   "source": [
    "test_data = vectorizer.transform(tst_texts)"
   ]
  },
  {
   "cell_type": "code",
   "execution_count": 120,
   "metadata": {},
   "outputs": [],
   "source": [
    "test_label = classifier.predict(test_data)"
   ]
  },
  {
   "cell_type": "code",
   "execution_count": 121,
   "metadata": {},
   "outputs": [],
   "source": [
    "with open('jw7jb-lr-test.pred', 'w') as f:\n",
    "    f.write('\\n'.join(test_label))"
   ]
  },
  {
   "cell_type": "code",
   "execution_count": 40,
   "metadata": {},
   "outputs": [],
   "source": [
    "# get vocab\n",
    "\n",
    "vocab = vectorizer.vocabulary_\n",
    "ivocab = {}\n",
    "for (key, val) in vocab.items():\n",
    "    ivocab[val] = key\n",
    "\n",
    "weights = classifier.coef_\n",
    "\n",
    "# get salient features for each class\n",
    "\n",
    "def get_top_features(weight, vocab, topn=10):\n",
    "    sorted_indices = list(np.argsort(weight))[::-1]\n",
    "    for n in range(topn):\n",
    "        print(ivocab[sorted_indices[n]])\n",
    "\n",
    "def get_bottom_features(weight, vocab, topn=10):\n",
    "    sorted_indices = list(np.argsort(weight))\n",
    "    for n in range(topn):\n",
    "        print(ivocab[sorted_indices[n]])\n"
   ]
  },
  {
   "cell_type": "code",
   "execution_count": 41,
   "metadata": {},
   "outputs": [
    {
     "name": "stdout",
     "output_type": "stream",
     "text": [
      "first only\n",
      "nd\n",
      "bought wrong\n",
      "could no\n",
      "sooner\n",
      "than most\n",
      "get cable\n",
      "unit came\n",
      "not give\n",
      "happier\n"
     ]
    }
   ],
   "source": [
    "get_top_features(weights[0], ivocab)"
   ]
  },
  {
   "cell_type": "code",
   "execution_count": 42,
   "metadata": {},
   "outputs": [
    {
     "name": "stdout",
     "output_type": "stream",
     "text": [
      "minolta\n",
      "thought good\n",
      "wouldn recommend\n",
      "not easy\n",
      "returning\n",
      "bigger than\n",
      "never received\n",
      "larger one\n",
      "disappointment\n",
      "haven able\n"
     ]
    }
   ],
   "source": [
    "get_bottom_features(weights[0], ivocab)"
   ]
  },
  {
   "cell_type": "code",
   "execution_count": 43,
<<<<<<< HEAD
=======
   "execution_count": 28,
>>>>>>> 6407107... proj1
=======
>>>>>>> 6c349b8... proj1 update
   "metadata": {},
   "outputs": [
    {
     "name": "stderr",
     "output_type": "stream",
     "text": [
<<<<<<< HEAD
<<<<<<< HEAD
      "/af12/jw7jb/miniconda3/envs/amazon_linux/lib/python3.6/site-packages/sklearn/linear_model/stochastic_gradient.py:128: FutureWarning: max_iter and tol parameters have been added in <class 'sklearn.linear_model.perceptron.Perceptron'> in 0.19. If both are left unset, they default to max_iter=5 and tol=None. If tol is not None, max_iter defaults to max_iter=1000. From 0.21, default max_iter will be 1000, and default tol will be 1e-3.\n",
=======
      "/Users/wujibang/Developer/Python/miniconda3/envs/amazon/lib/python3.6/site-packages/sklearn/linear_model/stochastic_gradient.py:128: FutureWarning: max_iter and tol parameters have been added in <class 'sklearn.linear_model.perceptron.Perceptron'> in 0.19. If both are left unset, they default to max_iter=5 and tol=None. If tol is not None, max_iter defaults to max_iter=1000. From 0.21, default max_iter will be 1000, and default tol will be 1e-3.\n",
>>>>>>> 6407107... proj1
=======
      "/af12/jw7jb/miniconda3/envs/amazon_linux/lib/python3.6/site-packages/sklearn/linear_model/stochastic_gradient.py:128: FutureWarning: max_iter and tol parameters have been added in <class 'sklearn.linear_model.perceptron.Perceptron'> in 0.19. If both are left unset, they default to max_iter=5 and tol=None. If tol is not None, max_iter defaults to max_iter=1000. From 0.21, default max_iter will be 1000, and default tol will be 1e-3.\n",
>>>>>>> 6c349b8... proj1 update
      "  \"and default tol will be 1e-3.\" % type(self), FutureWarning)\n"
     ]
    },
    {
<<<<<<< HEAD
<<<<<<< HEAD
=======
>>>>>>> 6c349b8... proj1 update
     "name": "stdout",
     "output_type": "stream",
     "text": [
      "Training accuracy = 0.9893333333333333\n",
      "Dev accuracy = 0.8874\n"
     ]
<<<<<<< HEAD
    }
   ],
   "source": [
    "classifier0 = sklearn.linear_model.Perceptron()\n",
    "classifier0.fit(trn_data, train_labels)\n",
    "print(\"Training accuracy =\", classifier0.score(trn_data, train_labels))\n",
    "print(\"Dev accuracy =\", classifier0.score(dev_data, dev_labels))"
=======
     "data": {
      "text/plain": [
       "Perceptron(alpha=0.0001, class_weight=None, eta0=1.0, fit_intercept=True,\n",
       "      max_iter=None, n_iter=None, n_jobs=1, penalty=None, random_state=0,\n",
       "      shuffle=True, tol=None, verbose=0, warm_start=False)"
      ]
     },
     "execution_count": 28,
     "metadata": {},
     "output_type": "execute_result"
    }
   ],
   "source": [
    "classifier = sklearn.linear_model.Perceptron()\n",
    "classifier.fit(trn_data, trn_labels)"
>>>>>>> 6407107... proj1
=======
    }
   ],
   "source": [
    "classifier0 = sklearn.linear_model.Perceptron()\n",
    "classifier0.fit(trn_data, train_labels)\n",
    "print(\"Training accuracy =\", classifier0.score(trn_data, train_labels))\n",
    "print(\"Dev accuracy =\", classifier0.score(dev_data, dev_labels))"
>>>>>>> 6c349b8... proj1 update
   ]
  },
  {
   "cell_type": "code",
   "execution_count": null,
   "metadata": {},
   "outputs": [],
   "source": []
  }
 ],
 "metadata": {
  "kernelspec": {
<<<<<<< HEAD
<<<<<<< HEAD
   "display_name": "Python [conda env:amazon_linux]",
   "language": "python",
   "name": "conda-env-amazon_linux-py"
=======
   "display_name": "Environment (conda_amazon)",
   "language": "python",
   "name": "conda_amazon"
>>>>>>> 6407107... proj1
=======
   "display_name": "Python [conda env:amazon_linux]",
   "language": "python",
   "name": "conda-env-amazon_linux-py"
>>>>>>> 6c349b8... proj1 update
  },
  "language_info": {
   "codemirror_mode": {
    "name": "ipython",
    "version": 3
   },
   "file_extension": ".py",
   "mimetype": "text/x-python",
   "name": "python",
   "nbconvert_exporter": "python",
   "pygments_lexer": "ipython3",
<<<<<<< HEAD
<<<<<<< HEAD
   "version": "3.6.2"
=======
   "version": "3.6.4"
>>>>>>> 6407107... proj1
=======
   "version": "3.6.2"
>>>>>>> 6c349b8... proj1 update
  }
 },
 "nbformat": 4,
 "nbformat_minor": 2
}
